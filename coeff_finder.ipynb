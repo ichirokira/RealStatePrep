{
  "nbformat": 4,
  "nbformat_minor": 0,
  "metadata": {
    "colab": {
      "provenance": []
    },
    "kernelspec": {
      "name": "python3",
      "display_name": "Python 3"
    },
    "language_info": {
      "name": "python"
    }
  },
  "cells": [
    {
      "cell_type": "markdown",
      "source": [
        "The aim of this notebook is to generate coefficients for the polynomial approximation of the Taylor series (about $x=0$) for the composition of the Gaussian function with Arcsin.\n",
        "\n",
        "Recall that we define the Gaussian as $$g_\\sigma(x) = {\\rm e}^{-\\frac{x^2}{2\\sigma^2}}$$ and therefore, $$g_\\sigma(\\arcsin(x)) = {\\rm e}^{-\\frac{\\arcsin(x)^2}{2\\sigma^2}}$$\n",
        "\n",
        "\n",
        "---\n",
        "\n",
        "\n",
        "The Taylor expansion of $\\arcsin(x)$ about $x=0$ is given by:\n",
        "$$\\arcsin(x) = \\sum_{n=0}^{\\infty} s_n x^{2n}$$ where $$s_n = \\frac{1}{2^{2n}}\\binom{2n}{n} \\frac{1}{2n+1}$$\n",
        "\n",
        "It can be shown that the Taylor series of our target function is: $$f(x) = 1+ \\sum_{n=1}^{\\infty} c_n x^{2n}$$ where $$c_n = \\frac{1}{n!} B_{n}(g_0,2!g_1,\\ldots,n!g_{n-1})$$\n",
        "The $n$-th complete Bell polynomials are represented as $B_n$ and the variable $g_m$ is related to a normalised Cuachy product from the $\\arcsin(x)$ Taylor series.\n",
        "\n",
        "\n",
        "---\n",
        "**Truncated Polynomial**\n",
        "\n",
        "We cannot evaluate an infinite series so we truncate.\n",
        "Let $$P_d(x) = 1 + \\sum_{n=1}^{d} c_d x^{2d}$$ be a degree-$2d$ polynomial.\n",
        "\n",
        "We also want a series expansion in terms of the Chebyshev polynomials."
      ],
      "metadata": {
        "id": "hmACpzq0PxBq"
      }
    },
    {
      "cell_type": "code",
      "source": [
        "import numpy as np\n",
        "import math\n",
        "from sympy import bell, symbols\n",
        "import json\n",
        "from numpy.polynomial import Polynomial, chebyshev\n",
        "\n",
        "class TargetSeriesCoefficients:\n",
        "    \"\"\"\n",
        "    A class to compute coefficients for the series expansion of the target function:\n",
        "        F(x) = Exp[ - 1/(2*sigma^2) * arcsin(x)^2 ].\n",
        "\n",
        "    The class supports two primary bases for the Taylor series expansions about x=0:\n",
        "\n",
        "    1.  **Standard Polynomial Taylor Series (P_d(x)):**\n",
        "        Represented as a truncated polynomial:\n",
        "        P_d(x) = 1 + sum_{n=1}^{d} c_n * x^(2n)\n",
        "        Where 'd' is the maximum degree.\n",
        "        The coefficients 'c_n' are computed using Bell polynomials.\n",
        "        (We refer to the Standard Polynomial series as \"Taylor\" series in the context of this class).\n",
        "\n",
        "    2.  **Chebyshev Series of the First Kind (T_n(x)):**\n",
        "        Represented as:\n",
        "        Q_d(x) = sum_{n=0}^{d} l_n * T_{2n}(x)\n",
        "        Where 'd' is the maximum degree and 'l_n' are the Chebyshev coefficients.\n",
        "        Note that only even-indexed Chebyshev polynomials (T_0, T_2, T_4, ...) are used due to the even nature of the target function's Taylor expansion.\n",
        "        The conversion from Taylor to Chebyshev coefficients involves pre-computed Chebyshev coefficient arrays loaded from 'cheby_coeffs.json'.\n",
        "\n",
        "    **Key Assumptions & Conventions:**\n",
        "    * **Input Range for x:** While not explicitly enforced by methods, the arcsin(x) function\n",
        "        is real-valued for x in [-1, 1]. The series expansions are generally valid within this range.\n",
        "    * **Coefficient Ordering:** All lists/arrays of coefficients (e.g., `c_n`, `l_n`) are ordered by increasing degree.\n",
        "        For a list representing coefficients up to degree 'D', the element at index `i` corresponds to the coefficient of the either x^(2i) for Standard Polynomial series or T_{2i}(x) for Chebyshev series.\n",
        "    * **Implied Zeros for Odd Powers:** For Standard Polynomial and Chebyshev expansions where only even powers/polynomials appear (e.g., x^0, x^2, x^4, ... or T_0, T_2, T_4, ...), the coefficient lists directly store c_0, c_1, c_2, ... or l_0, l_1, l_2, ...\n",
        "        The `insert_zeros_loop` static method is used internally to convert these compressed lists into the standard format expected by `numpy.polynomial.Polynomial` and `numpy.polynomial.chebyshev.Chebyshev` objects, which require explicit zeros for missing odd powers.\n",
        "    * **cheby_coeffs.json:** This file is expected to exist in the same directory as the script and contain pre-computed Chebyshev coefficients.\n",
        "        Its structure is assumed to be a dictionary or list where relevant coefficients can be accessed by integer (or string representation of integer) keys/indices.\n",
        "        (Further detail on its structure should be given under the relevant methods).\n",
        "\n",
        "    **Usage:**\n",
        "    To use this class, instantiate it with a positive sigma value, then call methods to compute Taylor or Chebyshev coefficients as needed.\n",
        "    \"\"\"\n",
        "    # ... rest of your class code\n",
        "    def __init__(self, sigma=1):\n",
        "        if sigma <= 0:\n",
        "            raise ValueError(\"Sigma must be positive.\")\n",
        "        self.sigma = sigma\n",
        "\n",
        "    def insert_zeros_loop(self, original_list):\n",
        "        \"\"\"\n",
        "        Inserts a zero after each element in the original list, except for the last element.\n",
        "        \"\"\"\n",
        "        new_list = []\n",
        "        for i, item in enumerate(original_list):\n",
        "            new_list.append(item)\n",
        "            if i < len(original_list) - 1: # Don't add a zero after the last element\n",
        "                new_list.append(0)\n",
        "        return new_list\n",
        "\n",
        "    def TargetFunction(self, x):\n",
        "      \"\"\"\n",
        "      Returns the target function value for a given input x.\n",
        "      \"\"\"\n",
        "      return np.exp( - (1/(2 * self.sigma**2)) * (np.arcsin(x))**2)\n",
        "\n",
        "    def ArcsineTaylorCoeffs(self, n: int):\n",
        "        \"\"\"\n",
        "        Takes a non-negative integer n and returns the n-th order coefficient of the Taylor series expansion of arcsine.\n",
        "            arcsine(x) = \\sum_{n=0}^{\\infty} s_n x^{2n+1}\n",
        "        Args:\n",
        "            n (int): The order of the coefficient to return.\n",
        "        Returns:\n",
        "            float: The n-th order coefficient of the Taylor series expansion of arcsine.\n",
        "\n",
        "        Note:\n",
        "            arcsine has an odd order expansion, so coefficient n corresponds to the term of order 2n+1.\n",
        "        \"\"\"\n",
        "        if n < 0:\n",
        "            raise ValueError(\"n must be non-negative.\")\n",
        "\n",
        "        return (1/(2**(2*n)))*math.comb(2*n,n)*(1/(2*n+1))\n",
        "\n",
        "    def ArcsineCauchyCoeffs(self, m: int):\n",
        "        \"\"\"\n",
        "        Computes the m-th order coefficient of the Cauchy product of arcsine with itself.\n",
        "        The Cauchy product of arcsin(x)^2 is given by:\n",
        "            arcsin(x) * arcsin(x) = \\sum_{m=0}^{\\infty} u_m x^{2m+2}\n",
        "            u_m = \\sum_{j=0}^{m} s_j * s_{m-j}.\n",
        "        Args:\n",
        "            m (int): The order of the coefficient to return.\n",
        "        Returns:\n",
        "            float: The m-th order coefficient of the Cauchy product of arcsine with itself.\n",
        "        \"\"\"\n",
        "        if m < 0:\n",
        "            raise ValueError(\"m must be non-negative.\")\n",
        "        total_sum = 0\n",
        "        for j in range(m+1):  # Loop from j = 0 to m\n",
        "            first_term = self.ArcsineTaylorCoeffs(j)\n",
        "            second_term = self.ArcsineTaylorCoeffs(m - j)\n",
        "            total_sum += first_term * second_term\n",
        "\n",
        "        return total_sum\n",
        "\n",
        "    def ScaledArcsineCauchyCoeffs(self, m: int):\n",
        "        \"\"\"\n",
        "        Scaled version of the Cauchy coefficients for arcsine, scaled by -1/(2*sigma^2).\n",
        "        \"\"\"\n",
        "        return (-2*(self.sigma**2))**(-1) * self.ArcsineCauchyCoeffs(m)\n",
        "\n",
        "    def TargetTaylorCoeff(self, n: int):\n",
        "        \"\"\"\n",
        "        Computes the n-th coefficient of the Taylor series expansion of the target function about x=0.\n",
        "        The coefficients are defined using the n-th complete Bell polynomial:\n",
        "            c_n = \\frac{1}{n!} B_{n}(1! * g(0), 2! * g(1), \\dots, (n)! * g(n-1))\n",
        "            g(m) = -\\frac{1}{2\\sigma^2} u_m and u_m is the m-th Cauchy coefficient of arcsine.\n",
        "        The n-th complete Bell polynomial is a sum over n many partial Bell polynomials:\n",
        "            B_{n}(x_1, x_2, \\dots, x_n) = \\sum_{k=1}^{n} B_{n,k}(x_1, x_2, \\dots, x_n)\n",
        "        Args:\n",
        "            n (int): The order of the coefficient to return.\n",
        "        Returns:\n",
        "            tuple: A tuple containing the n-th coefficient and a string representation of the coefficient.\n",
        "        \"\"\"\n",
        "        if n < 1:\n",
        "            raise ValueError(\"n must be at least 1\")\n",
        "\n",
        "        total_sum = 0\n",
        "        vars = symbols(f'x:{n}')\n",
        "\n",
        "        # Create a dictionary for substitution: {x0: 1! * u(0), x2: 2! * u(2), ...}\n",
        "        subs_s = {vars[i]: math.factorial(i+1) * self.ScaledArcsineCauchyCoeffs(i) for i in range(n)}\n",
        "        # print(f\"subs_s: {subs_s}\\n\")\n",
        "\n",
        "        for k in range(1,n +1):\n",
        "            num_vars = n - k + 1\n",
        "            sym_vars = vars[:num_vars]\n",
        "            # print(f\"n: {n}, k: {k}, vars: {sym_vars}, num_vars: {num_vars}\")\n",
        "            kth_partial_bell = bell(n,k,sym_vars)\n",
        "            # print(f\"kth_partial_bell: {kth_partial_bell}\\n\")\n",
        "\n",
        "            # Perform the substitution and evaluate\n",
        "            result_k = kth_partial_bell.subs(subs_s)\n",
        "            # print(f\"result_k: {result_k}\\n\")\n",
        "            total_sum += result_k\n",
        "\n",
        "        result = (1/math.factorial(n)) * total_sum\n",
        "        output = f\"{n}-th coefficient (~ x^{2*n}): c_{n} = {result}\"\n",
        "        return result, output\n",
        "\n",
        "    def ListTargetTaylorCoeff(self, max_degree: int, full: bool=False):\n",
        "        \"\"\"\n",
        "        Produces a list of coefficients for the Taylor series expansion of the target function about x=0, up to the specified max_degree.\n",
        "        Args:\n",
        "            max_degree (int): The maximum degree of the Taylor series expansion.\n",
        "            full (bool): If True, the list will include zeros for odd powers.\n",
        "        Returns:\n",
        "            list: A list of coefficients for the Taylor series expansion.\n",
        "        Note:\n",
        "            The i-th element of the list corresponds to the coefficient c_i for the term x^(2i).\n",
        "            All coefficient lists start from c_0 and go up to c_max_degree.\n",
        "        ---\n",
        "        Example:\n",
        "        (Example list not necessarily representative of actual output, just for illustration)\n",
        "        >>> D = TargetSeriesCoefficients(sigma=1)\n",
        "        >>> D.ListTargetTaylorCoeff(3)\n",
        "        [1,2,3,4]\n",
        "\n",
        "        -> c_0 = 1, c_1 = 2, c_2 = 3, c_3 = 4\n",
        "        -> The polynomial is: 1 + 2x^2 + 3x^4 + 4x^6\n",
        "        \"\"\"\n",
        "        output_list = [1] + [float(self.TargetTaylorCoeff(i)[0]) for i in range(1,max_degree+1)]\n",
        "        if full==True:\n",
        "            return self.insert_zeros_loop(output_list)\n",
        "        else:\n",
        "            return output_list\n",
        "\n",
        "    def ChebyCoeff(self, degree: int):\n",
        "        \"\"\"\n",
        "        Reads in the Chebyshev polynomial coefficients from a JSON file and returns the coefficients for the degree-th order Chebyshev polynomial of the first kind.\n",
        "        Args:\n",
        "            degree (int): The order of the Chebyshev polynomial to return coefficients for.\n",
        "        Returns:\n",
        "            list: A list of coefficients for the Chebyshev polynomial of the first kind of order degree.\n",
        "        Note:\n",
        "            The input degree must be a multiple of 2.\n",
        "            The coefficients are stored in a JSON file named 'cheby_coeffs.json'.\n",
        "            All coefficient lists start from t_0 and go up to t_degree.\n",
        "        ---\n",
        "        Example:\n",
        "        (Example list not necessarily representative of actual output, just for illustration)\n",
        "        >>> D = TargetSeriesCoefficients(sigma=1)\n",
        "        >>> D.ChebyCoeff(4)\n",
        "        [1,-8,8]\n",
        "\n",
        "        -> t_0 = 1, t_2 = 2, t_4 = 3\n",
        "        -> The polynomial is: 1 + -8x^2 + 8x^4 = T_4(x)\n",
        "        \"\"\"\n",
        "        if degree < 0 or degree % 2 != 0:\n",
        "            raise ValueError(\"degree must be a non-negative even integer.\")\n",
        "\n",
        "        with open('cheby_coeffs.json', 'r') as f:\n",
        "            coeffs = json.load(f)\n",
        "\n",
        "        return coeffs[int(degree/2)]\n",
        "\n",
        "    def ListChebyCoeff(self, max_degree: int):\n",
        "        \"\"\"\n",
        "        Returns a list of coefficient arrays for Chebyshev polynomials of the first kind from degree-0 to degree-max_degree in steps of 2.\n",
        "        Args:\n",
        "            max_degree (int): The maximum order of the Chebyshev polynomial.\n",
        "        Returns:\n",
        "            list: A list of coefficient arrays for Chebyshev polynomials of the first kind.\n",
        "        Note:\n",
        "            The l-th array in the list corresponds to the coefficients for the Chebyshev polynomial of order (2l).\n",
        "            The i-th element of the l-th array corresponds to the coefficient for x^2i in the Chebyshev polynomial of order (2l).\n",
        "        ---\n",
        "        Example:\n",
        "        (Example list not necessarily representative of actual output, just for illustration)\n",
        "        >>> D = TargetSeriesCoefficients(sigma=1)\n",
        "        >>> D.ListChebyCoeff(4)\n",
        "        [[1], [-1, 2], [1, -8, 8]]\n",
        "\n",
        "        -> The first array corresponds to T_0(x) = 1\n",
        "        -> The second array corresponds to T_2(x) = -1 + 2x^2\n",
        "        -> The third array corresponds to T_4(x) = 1 - 8x^2 + 8x^4\n",
        "        \"\"\"\n",
        "        with open('cheby_coeffs.json', 'r') as f:\n",
        "            coeffs = json.load(f)\n",
        "\n",
        "        return coeffs[:int(max_degree/2)+1]\n",
        "\n",
        "    def ListTargetChebyCoeff(self, max_degree: int, full: bool=False):\n",
        "        \"\"\"\n",
        "        Produces a list of coefficients for the Chebyshev polynomial decomposition of the target function P_d(x).\n",
        "        \\sum_{n=0}^{d} c_n x^{2n} = \\sum_{n=0}^{d} l_n T_{2n}(x)\n",
        "        l_n = \\frac{1}{t^{(2n)}_n} (c_n - \\sum_{m=n+1}^{d} l_m t^{(2n)}_m)\n",
        "        where t^{(2n)}_m is the m-th coefficient of the Chebyshev polynomial of order (2n).\n",
        "        Args:\n",
        "            max_degree (int): The maximum degree of the Chebyshev polynomial decomposition.\n",
        "            full (bool): If True, the list will include zeros for odd powers.\n",
        "        Returns:\n",
        "            list: A list of coefficients for the Chebyshev polynomial decomposition of the target function.\n",
        "        Note:\n",
        "            The i-th element of the list corresponds to the coefficient for the Chebyshev polynomial of degree (2i)\n",
        "            All coefficient lists start from l_0 and go up to l_max_degree.\n",
        "        ---\n",
        "        Example:\n",
        "        (Example list not necessarily representative of actual output, just for illustration)\n",
        "        >>> D = TargetSeriesCoefficients(sigma=1)\n",
        "        >>> D.ListTargetChebyCoeff(4)\n",
        "        [1,-2,3,-4,5]\n",
        "\n",
        "        -> l_0 = 1, l_1 = -2, l_2 = 3, l_3 = -4, l_4 = 5\n",
        "        -> The polynomial is: 1 - 2T_2(x) + 3T_4(x) - 4T_6(x) + 5T_8(x)\n",
        "        -> This is equivalent to the Taylor series expansion of the target function up to degree 8.\n",
        "        \"\"\"\n",
        "        taylor_coeff_list = self.ListTargetTaylorCoeff(max_degree)\n",
        "\n",
        "        if len(taylor_coeff_list) != max_degree+1:\n",
        "            raise ValueError(f\"taylor_coeff_list must be of length {n+1}\")\n",
        "\n",
        "        cheby_coeff_list = [0] * (max_degree+1)\n",
        "        # print(f\"cheby_coeff_list: {cheby_coeff_list}\")\n",
        "\n",
        "        cheby_coeff_max = taylor_coeff_list[max_degree] / self.ChebyCoeff(2*max_degree)[max_degree]\n",
        "        cheby_coeff_list[max_degree] = cheby_coeff_max\n",
        "        # print(f\"cheby_coeff_list: {cheby_coeff_list}\")\n",
        "\n",
        "        for k in range(max_degree-1,-1,-1): # Count in reverse\n",
        "            # print(f\"k = {k}\")\n",
        "            tail_sum = 0\n",
        "            for m in range(k+1,max_degree+1):\n",
        "                # print(f\"For k={k}: m={m} and cheby_coeff_list[{m}]={cheby_coeff_list[m]} and ChebyCoeff({2*m})[{k}]={ChebyCoeff(2*m)[k]}\")\n",
        "                scaled_coeff = cheby_coeff_list[m] * self.ChebyCoeff(2*m)[k]\n",
        "                # print(f\"scaled_coeff = {scaled_coeff}\")\n",
        "                tail_sum += scaled_coeff\n",
        "                # print(f\"tail_sum = {tail_sum}\")\n",
        "\n",
        "            cheby_coeff_k = (taylor_coeff_list[k] - tail_sum) / self.ChebyCoeff(2*k)[k]\n",
        "            cheby_coeff_list[k] = cheby_coeff_k\n",
        "\n",
        "        if full==True:\n",
        "            return self.insert_zeros_loop(cheby_coeff_list)\n",
        "        else:\n",
        "            return cheby_coeff_list\n",
        "\n",
        "    def TargetChebyCoeff(self, max_degree: int, n: int):\n",
        "        \"\"\"\n",
        "        Computes the n-th coefficient of the Taylor series expansion of the target function about x=0 in terms of Chebyshev polynomials.\n",
        "        Args:\n",
        "            max_degree (int): The maximum degree of the Chebyshev polynomial decomposition.\n",
        "            n (int): The index of the coefficient to return.\n",
        "        Returns:\n",
        "            float: The n-th coefficient of the Chebyshev polynomial decomposition of the target function P_d(x).\n",
        "        Note:\n",
        "            max_degree must be a non-negative even integer.\n",
        "            We must specify max_degree as this function calls ListTargetChebyCoeff.\n",
        "        \"\"\"\n",
        "        if n < 0:\n",
        "            raise ValueError(\"n must be non-negative.\")\n",
        "        if max_degree < 0 or max_degree % 2 != 0:\n",
        "            raise ValueError(\"max_degree must be a non-negative even integer.\")\n",
        "\n",
        "        cheby_coeff_list = self.ListTargetChebyCoeff(max_degree)\n",
        "        if len(cheby_coeff_list) <= n:\n",
        "            raise ValueError(f\"n={n} is out of bounds for the computed coefficients.\")\n",
        "\n",
        "        return cheby_coeff_list[n]\n",
        "\n",
        "    def CoeffListToPolynomial(self, coeff_list: list, expansion_type: str):\n",
        "        \"\"\"\n",
        "        Converts a list of coefficients into a Polynomial or Chebyshev polynomial object.\n",
        "        Args:\n",
        "            coeff_list (list): List of coefficients.\n",
        "            expansion_type (str): Type of polynomial, either \"TAYLOR\" or \"CHEBYSHEV\".\n",
        "        Returns:\n",
        "            Polynomial or Chebyshev object based on the expansion_type.\n",
        "        Note:\n",
        "            The coefficients in the list should be in ascending order of powers, i.e., the first element corresponds to the constant term (x^0), the second to the coefficient of x^2, and so on.\n",
        "            Recall that we are dealing with even powers only, so the coefficients for odd powers will be zero and not included in the initial list.\n",
        "        \"\"\"\n",
        "        # Raise error if there is a zero in the input list\n",
        "        if any(x == 0 for x in coeff_list):\n",
        "            raise ValueError(\"The input list must not contain any zeros.\")\n",
        "\n",
        "        if expansion_type == \"TAYLOR\":\n",
        "            coeff_list = self.insert_zeros_loop(coeff_list)\n",
        "            return Polynomial(coeff_list)\n",
        "\n",
        "        elif expansion_type == \"CHEBYSHEV\":\n",
        "            coeff_list = self.insert_zeros_loop(coeff_list)\n",
        "            return chebyshev.Chebyshev(coeff_list)\n",
        "\n",
        "        else:\n",
        "            raise ValueError(\"expansion_type must be either 'TAYLOR' or 'CHEBYSHEV'\")"
      ],
      "metadata": {
        "id": "ggMG1bM_lIBR"
      },
      "execution_count": 2,
      "outputs": []
    },
    {
      "cell_type": "code",
      "source": [
        "X = TargetSeriesCoefficients(1)\n",
        "X.ListTargetChebyCoeff(6)"
      ],
      "metadata": {
        "colab": {
          "base_uri": "https://localhost:8080/",
          "height": 320
        },
        "id": "_-UnexKGw653",
        "outputId": "8aee7ebb-a99f-4fc9-c71e-6afc0ef3ea3c"
      },
      "execution_count": 3,
      "outputs": [
        {
          "output_type": "error",
          "ename": "FileNotFoundError",
          "evalue": "[Errno 2] No such file or directory: 'cheby_coeffs.json'",
          "traceback": [
            "\u001b[0;31m---------------------------------------------------------------------------\u001b[0m",
            "\u001b[0;31mFileNotFoundError\u001b[0m                         Traceback (most recent call last)",
            "\u001b[0;32m/tmp/ipython-input-3-233224449.py\u001b[0m in \u001b[0;36m<cell line: 0>\u001b[0;34m()\u001b[0m\n\u001b[1;32m      1\u001b[0m \u001b[0mX\u001b[0m \u001b[0;34m=\u001b[0m \u001b[0mTargetSeriesCoefficients\u001b[0m\u001b[0;34m(\u001b[0m\u001b[0;36m1\u001b[0m\u001b[0;34m)\u001b[0m\u001b[0;34m\u001b[0m\u001b[0;34m\u001b[0m\u001b[0m\n\u001b[0;32m----> 2\u001b[0;31m \u001b[0mX\u001b[0m\u001b[0;34m.\u001b[0m\u001b[0mListTargetChebyCoeff\u001b[0m\u001b[0;34m(\u001b[0m\u001b[0;36m6\u001b[0m\u001b[0;34m)\u001b[0m\u001b[0;34m\u001b[0m\u001b[0;34m\u001b[0m\u001b[0m\n\u001b[0m",
            "\u001b[0;32m/tmp/ipython-input-2-2637391103.py\u001b[0m in \u001b[0;36mListTargetChebyCoeff\u001b[0;34m(self, max_degree, full)\u001b[0m\n\u001b[1;32m    261\u001b[0m         \u001b[0;31m# print(f\"cheby_coeff_list: {cheby_coeff_list}\")\u001b[0m\u001b[0;34m\u001b[0m\u001b[0;34m\u001b[0m\u001b[0m\n\u001b[1;32m    262\u001b[0m \u001b[0;34m\u001b[0m\u001b[0m\n\u001b[0;32m--> 263\u001b[0;31m         \u001b[0mcheby_coeff_max\u001b[0m \u001b[0;34m=\u001b[0m \u001b[0mtaylor_coeff_list\u001b[0m\u001b[0;34m[\u001b[0m\u001b[0mmax_degree\u001b[0m\u001b[0;34m]\u001b[0m \u001b[0;34m/\u001b[0m \u001b[0mself\u001b[0m\u001b[0;34m.\u001b[0m\u001b[0mChebyCoeff\u001b[0m\u001b[0;34m(\u001b[0m\u001b[0;36m2\u001b[0m\u001b[0;34m*\u001b[0m\u001b[0mmax_degree\u001b[0m\u001b[0;34m)\u001b[0m\u001b[0;34m[\u001b[0m\u001b[0mmax_degree\u001b[0m\u001b[0;34m]\u001b[0m\u001b[0;34m\u001b[0m\u001b[0;34m\u001b[0m\u001b[0m\n\u001b[0m\u001b[1;32m    264\u001b[0m         \u001b[0mcheby_coeff_list\u001b[0m\u001b[0;34m[\u001b[0m\u001b[0mmax_degree\u001b[0m\u001b[0;34m]\u001b[0m \u001b[0;34m=\u001b[0m \u001b[0mcheby_coeff_max\u001b[0m\u001b[0;34m\u001b[0m\u001b[0;34m\u001b[0m\u001b[0m\n\u001b[1;32m    265\u001b[0m         \u001b[0;31m# print(f\"cheby_coeff_list: {cheby_coeff_list}\")\u001b[0m\u001b[0;34m\u001b[0m\u001b[0;34m\u001b[0m\u001b[0m\n",
            "\u001b[0;32m/tmp/ipython-input-2-2637391103.py\u001b[0m in \u001b[0;36mChebyCoeff\u001b[0;34m(self, degree)\u001b[0m\n\u001b[1;32m    197\u001b[0m             \u001b[0;32mraise\u001b[0m \u001b[0mValueError\u001b[0m\u001b[0;34m(\u001b[0m\u001b[0;34m\"degree must be a non-negative even integer.\"\u001b[0m\u001b[0;34m)\u001b[0m\u001b[0;34m\u001b[0m\u001b[0;34m\u001b[0m\u001b[0m\n\u001b[1;32m    198\u001b[0m \u001b[0;34m\u001b[0m\u001b[0m\n\u001b[0;32m--> 199\u001b[0;31m         \u001b[0;32mwith\u001b[0m \u001b[0mopen\u001b[0m\u001b[0;34m(\u001b[0m\u001b[0;34m'cheby_coeffs.json'\u001b[0m\u001b[0;34m,\u001b[0m \u001b[0;34m'r'\u001b[0m\u001b[0;34m)\u001b[0m \u001b[0;32mas\u001b[0m \u001b[0mf\u001b[0m\u001b[0;34m:\u001b[0m\u001b[0;34m\u001b[0m\u001b[0;34m\u001b[0m\u001b[0m\n\u001b[0m\u001b[1;32m    200\u001b[0m             \u001b[0mcoeffs\u001b[0m \u001b[0;34m=\u001b[0m \u001b[0mjson\u001b[0m\u001b[0;34m.\u001b[0m\u001b[0mload\u001b[0m\u001b[0;34m(\u001b[0m\u001b[0mf\u001b[0m\u001b[0;34m)\u001b[0m\u001b[0;34m\u001b[0m\u001b[0;34m\u001b[0m\u001b[0m\n\u001b[1;32m    201\u001b[0m \u001b[0;34m\u001b[0m\u001b[0m\n",
            "\u001b[0;31mFileNotFoundError\u001b[0m: [Errno 2] No such file or directory: 'cheby_coeffs.json'"
          ]
        }
      ]
    },
    {
      "cell_type": "code",
      "source": [
        "X.CoeffListToPolynomial(X.ListTargetChebyCoeff(6),\"CHEBYSHEV\")"
      ],
      "metadata": {
        "colab": {
          "base_uri": "https://localhost:8080/",
          "height": 60
        },
        "id": "kjS4E3U5xWhA",
        "outputId": "b2a940eb-4690-4c94-aead-8d0a87bdd4c6"
      },
      "execution_count": 57,
      "outputs": [
        {
          "output_type": "execute_result",
          "data": {
            "text/plain": [
              "Chebyshev([ 7.16432095e-01,  0.00000000e+00, -2.99151318e-01,  0.00000000e+00,\n",
              "       -1.89263647e-02,  0.00000000e+00, -3.93404347e-03,  0.00000000e+00,\n",
              "       -6.63793453e-04,  0.00000000e+00, -7.71631972e-05,  0.00000000e+00,\n",
              "       -4.46209794e-06], domain=[-1.,  1.], window=[-1.,  1.], symbol='x')"
            ],
            "text/latex": "$x \\mapsto \\text{0.7164321}\\,{T}_{0}(x)\\color{LightGray}{ + \\text{0.0}\\,{T}_{1}(x)} - \\text{0.29915132}\\,{T}_{2}(x)\\color{LightGray}{ + \\text{0.0}\\,{T}_{3}(x)} - \\text{0.01892636}\\,{T}_{4}(x)\\color{LightGray}{ + \\text{0.0}\\,{T}_{5}(x)} - \\text{0.00393404}\\,{T}_{6}(x)\\color{LightGray}{ + \\text{0.0}\\,{T}_{7}(x)} - \\text{0.00066379}\\,{T}_{8}(x)\\color{LightGray}{ + \\text{0.0}\\,{T}_{9}(x)} - \\text{(7.71631972e-05)}\\,{T}_{10}(x)\\color{LightGray}{ + \\text{0.0}\\,{T}_{11}(x)} - \\text{(4.46209794e-06)}\\,{T}_{12}(x)$"
          },
          "metadata": {},
          "execution_count": 57
        }
      ]
    },
    {
      "cell_type": "markdown",
      "source": [
        "Let's plot some graphs!"
      ],
      "metadata": {
        "id": "hyRMG89gR9qe"
      }
    },
    {
      "cell_type": "code",
      "source": [
        "import matplotlib.pyplot as plt\n",
        "\n",
        "D = TargetSeriesCoefficients(1)\n",
        "\n",
        "poly_T, poly_C = D.CoeffListToPolynomial(D.ListTargetTaylorCoeff(4),\"TAYLOR\"), D.CoeffListToPolynomial(D.ListTargetChebyCoeff(4),\"CHEBYSHEV\")\n",
        "Gauss_arcin_comp = lambda x: np.exp(-(1/2) * (np.arcsin(x)**2))\n",
        "\n",
        "x_plot = np.linspace(0, 1, 100)\n",
        "y_plot_T, y_plot_C, y_plot_G = poly_T(x_plot), poly_C(x_plot), Gauss_arcin_comp(x_plot)\n",
        "delta_y_TC, delta_y_TG, delta_y_CG = y_plot_T - y_plot_C, y_plot_T - y_plot_G, y_plot_C - y_plot_G\n",
        "\n",
        "# Recall that the Taylor and Chebyshev expansions are equivalent!\n",
        "\n",
        "plt.plot(x_plot, y_plot_T, color='red', label=f'Polynomial')\n",
        "plt.plot(x_plot, y_plot_C, color='blue', label=f'Chebyshev')\n",
        "plt.plot(x_plot, delta_y_TC, color='green', label=f'Polynomial - Chebyshev')\n",
        "plt.plot(x_plot, y_plot_G, color='black', label=f'Gaussian')\n",
        "plt.plot(x_plot, delta_y_TG, color='orange', label=f'Polynomial - Gaussian')\n",
        "plt.plot(x_plot, delta_y_CG, color='purple', label=f'Chebyshev - Gaussian')\n",
        "plt.xlabel('X-axis')\n",
        "plt.ylabel('Y-axis')\n",
        "plt.title('Numpy Polynomial Fit')\n",
        "plt.legend()\n",
        "plt.grid(True)\n",
        "plt.show()"
      ],
      "metadata": {
        "colab": {
          "base_uri": "https://localhost:8080/",
          "height": 472
        },
        "id": "RkqaXBkHR9cu",
        "outputId": "382ec822-bb56-4f23-aff4-9ea5e612f559"
      },
      "execution_count": 2,
      "outputs": [
        {
          "output_type": "display_data",
          "data": {
            "text/plain": [
              "<Figure size 640x480 with 1 Axes>"
            ],
            "image/png": "[encoded data removed]"
          },
          "metadata": {}
        }
      ]
    },
    {
      "cell_type": "markdown",
      "source": [
        "We zoom in on the end of the domain"
      ],
      "metadata": {
        "id": "Pve7oS0SSo6G"
      }
    },
    {
      "cell_type": "code",
      "source": [
        "n=6\n",
        "s=0.75\n",
        "xs_plot = [float(np.sin(x / 2**n)) for x in range(2**n)]\n",
        "poly_T = TargetSeriesCoefficients(s).CoeffListToPolynomial(TargetSeriesCoefficients(s).ListTargetTaylorCoeff(1),\"TAYLOR\")\n",
        "Gauss_arcin_comp = lambda x: np.exp(-(1/(2*s**2)) * (np.arcsin(x)**2))\n",
        "ys_plot_T, ys_plot_G = poly_T(xs_plot), Gauss_arcin_comp(xs_plot)\n",
        "delta_ys_TG = np.abs(ys_plot_T - ys_plot_G)\n",
        "# plt.plot(xs_plot, ys_plot_T, color='red', label=f'Polynomial')\n",
        "# plt.plot(xs_plot, ys_plot_G, color='black', label=f'Gaussian')\n",
        "plt.plot(xs_plot, delta_ys_TG, color='orange', label=f'Polynomial - Gaussian')\n",
        "plt.xlabel('X-axis')\n",
        "plt.ylabel('Y-axis')\n",
        "plt.title('Numpy Polynomial Fit')\n",
        "plt.legend()\n",
        "plt.grid(True)\n",
        "plt.show()"
      ],
      "metadata": {
        "colab": {
          "base_uri": "https://localhost:8080/",
          "height": 472
        },
        "id": "9FX_tLvtSoPN",
        "outputId": "f5d91609-5335-4eac-c985-b7e0a40d96fe"
      },
      "execution_count": 44,
      "outputs": [
        {
          "output_type": "display_data",
          "data": {
            "text/plain": [
              "<Figure size 640x480 with 1 Axes>"
            ],
            "image/png": "[encoded data removed]"
          },
          "metadata": {}
        }
      ]
    },
    {
      "cell_type": "code",
      "source": [
        "def DegreeFromError(sigma: float, error: float):\n",
        "    \"\"\"\n",
        "    Computes a lower bound on 2*degree based on the error tolerance and sigma.\n",
        "\n",
        "    Note:\n",
        "      Output is rounded up to the nearest even integer.\n",
        "    \"\"\"\n",
        "    return math.ceil((1 / (1-np.sin(1))) * ((np.pi**2 / (8 * sigma**2)) + np.log(1/error))  / 2) * 2\n",
        "\n",
        "def Alt_DegreeFromError(sigma: float, error: float, n: int):\n",
        "    \"\"\"\n",
        "    Computes a lower bound on 2*degree based on the error tolerance, sigma and the number of qubits.\n",
        "    Args:\n",
        "      sigma (float): The standard deviation of the Gaussian.\n",
        "      error (float): The desired error tolerance.\n",
        "      n (int): The number of qubits\n",
        "    Returns:\n",
        "      int: The estimated 2*degree.\n",
        "\n",
        "    Note:\n",
        "      Output is rounded up to the nearest even integer.\n",
        "    \"\"\"\n",
        "    return math.ceil((1 / (1-np.sin((2**n - 1)/(2**n)))) * ((np.pi**2 / (8 * sigma**2)) + np.log(1/error))  / 2) * 2"
      ],
      "metadata": {
        "id": "9pG7ieu14jZf"
      },
      "execution_count": 8,
      "outputs": []
    },
    {
      "cell_type": "code",
      "source": [
        "DegreeFromError(0.75,1e-3)"
      ],
      "metadata": {
        "colab": {
          "base_uri": "https://localhost:8080/"
        },
        "id": "rYt0qZm8w3yO",
        "outputId": "64c5530c-6231-4666-f73f-9356f406dc9c"
      },
      "execution_count": 52,
      "outputs": [
        {
          "output_type": "execute_result",
          "data": {
            "text/plain": [
              "58"
            ]
          },
          "metadata": {},
          "execution_count": 52
        }
      ]
    },
    {
      "cell_type": "code",
      "source": [
        "Alt_DegreeFromError(0.75,1e-3,6)"
      ],
      "metadata": {
        "colab": {
          "base_uri": "https://localhost:8080/"
        },
        "id": "_fK3bGyear1c",
        "outputId": "53fa409c-dab1-41cd-c2e0-1a396e7f01d2"
      },
      "execution_count": 47,
      "outputs": [
        {
          "output_type": "execute_result",
          "data": {
            "text/plain": [
              "56"
            ]
          },
          "metadata": {},
          "execution_count": 47
        }
      ]
    },
    {
      "cell_type": "code",
      "source": [
        "def NumericalDegreeFromError(sigma: float, error: float, n: int, initial_degree = None):\n",
        "    \"\"\"\n",
        "    Computes an estimate on 2*degree based on the error tolerance and sigma.\n",
        "    Args:\n",
        "      sigma (float): The standard deviation of the Gaussian.\n",
        "      error (float): The desired error tolerance.\n",
        "      n (int): The number of qubits\n",
        "    Returns:\n",
        "      int: The estimated 2*degree.\n",
        "    Note:\n",
        "      For very small error it is good to try guess a smaller initial_degree.\n",
        "    \"\"\"\n",
        "    if initial_degree is None:\n",
        "      initial_degree = DegreeFromError(sigma, error)\n",
        "\n",
        "    quarter = 2**(n-2)\n",
        "    x = [float(np.sin(x / 2**n)) for x in range(2**n)]\n",
        "    x = x[3*quarter:]\n",
        "    targ_func = lambda x: np.exp( - (1/(2 * sigma**2)) * (np.arcsin(x))**2)\n",
        "\n",
        "    d = initial_degree\n",
        "    delta = 0\n",
        "\n",
        "    while True:\n",
        "        init = TargetSeriesCoefficients(sigma=sigma)\n",
        "        coeff_list = init.ListTargetTaylorCoeff(d // 2)\n",
        "        poly = init.CoeffListToPolynomial(coeff_list, \"TAYLOR\")\n",
        "        delta = np.max(np.abs(poly(x) - targ_func(x)))\n",
        "        print(f\"degree={d} gives delta={delta}\")\n",
        "        if delta <= error:\n",
        "          # Try a smaller degree\n",
        "            d -= 2\n",
        "            if d < 0:\n",
        "              break\n",
        "        else:\n",
        "          # If previous is too small, increment degree\n",
        "          return d + 2"
      ],
      "metadata": {
        "id": "kmlT53GKxk9c"
      },
      "execution_count": 28,
      "outputs": []
    },
    {
      "cell_type": "code",
      "source": [
        "NumericalDegreeFromError(1,1e-6,6, initial_degree=28)"
      ],
      "metadata": {
        "colab": {
          "base_uri": "https://localhost:8080/"
        },
        "id": "Ayz_Pxd-_JZY",
        "outputId": "85c9a50b-b438-4fac-d998-05f860780ffc"
      },
      "execution_count": 60,
      "outputs": [
        {
          "output_type": "stream",
          "name": "stdout",
          "text": [
            "degree=28 gives delta=2.5676449060374473e-05\n"
          ]
        },
        {
          "output_type": "execute_result",
          "data": {
            "text/plain": [
              "30"
            ]
          },
          "metadata": {},
          "execution_count": 60
        }
      ]
    },
    {
      "cell_type": "code",
      "source": [
        "targ_func = lambda x: np.exp( - (1/(2)) * (np.arcsin(x))**2)\n",
        "float(targ_func(0.4))"
      ],
      "metadata": {
        "colab": {
          "base_uri": "https://localhost:8080/"
        },
        "id": "hwrr2BgC_MAs",
        "outputId": "3a9d792a-b10c-42aa-926d-fd98e6d4a7c6"
      },
      "execution_count": 16,
      "outputs": [
        {
          "output_type": "execute_result",
          "data": {
            "text/plain": [
              "0.9188126343848698"
            ]
          },
          "metadata": {},
          "execution_count": 16
        }
      ]
    },
    {
      "cell_type": "code",
      "source": [],
      "metadata": {
        "id": "Bw5ME7pe_VAo"
      },
      "execution_count": null,
      "outputs": []
    }
  ]
}