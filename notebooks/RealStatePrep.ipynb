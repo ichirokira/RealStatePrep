{
  "cells": [
    {
      "cell_type": "code",
      "execution_count": null,
      "metadata": {
        "colab": {
          "base_uri": "https://localhost:8080/"
        },
        "id": "ZcVW43z4vS0N",
        "outputId": "686c1312-d470-4906-de5f-d3ae78410dbe"
      },
      "outputs": [
        {
          "name": "stdout",
          "output_type": "stream",
          "text": [
            "Collecting pyLIQTR\n",
            "  Using cached pyliqtr-1.3.9-py3-none-any.whl.metadata (9.0 kB)\n",
            "Requirement already satisfied: cirq-core in /usr/local/lib/python3.11/dist-packages (from pyLIQTR) (1.4.0)\n",
            "Collecting qualtran==0.4.0 (from pyLIQTR)\n",
            "  Downloading qualtran-0.4.0-py3-none-any.whl.metadata (2.1 kB)\n",
            "Requirement already satisfied: ipykernel in /usr/local/lib/python3.11/dist-packages (from pyLIQTR) (6.17.1)\n",
            "Requirement already satisfied: numpy in /usr/local/lib/python3.11/dist-packages (from pyLIQTR) (1.26.4)\n",
            "Requirement already satisfied: pandas in /usr/local/lib/python3.11/dist-packages (from pyLIQTR) (2.2.2)\n",
            "Requirement already satisfied: scipy in /usr/local/lib/python3.11/dist-packages (from pyLIQTR) (1.15.3)\n",
            "Requirement already satisfied: matplotlib in /usr/local/lib/python3.11/dist-packages (from pyLIQTR) (3.10.0)\n",
            "Requirement already satisfied: tqdm in /usr/local/lib/python3.11/dist-packages (from pyLIQTR) (4.67.1)\n",
            "Collecting openfermion (from pyLIQTR)\n",
            "  Downloading openfermion-1.7.1-py3-none-any.whl.metadata (13 kB)\n",
            "Collecting portalocker (from pyLIQTR)\n",
            "  Downloading portalocker-3.2.0-py3-none-any.whl.metadata (8.7 kB)\n",
            "Requirement already satisfied: ply in /usr/local/lib/python3.11/dist-packages (from pyLIQTR) (3.11)\n",
            "Collecting gmpy2 (from pyLIQTR)\n",
            "  Downloading gmpy2-2.2.1-cp311-cp311-manylinux_2_17_x86_64.manylinux2014_x86_64.whl.metadata (2.8 kB)\n",
            "Requirement already satisfied: networkx in /usr/local/lib/python3.11/dist-packages (from pyLIQTR) (3.5)\n",
            "Collecting juliacall (from pyLIQTR)\n",
            "  Downloading juliacall-0.9.25-py3-none-any.whl.metadata (4.5 kB)\n",
            "Collecting juliapkg (from pyLIQTR)\n",
            "  Downloading juliapkg-0.1.17-py3-none-any.whl.metadata (6.2 kB)\n",
            "Requirement already satisfied: rustworkx in /usr/local/lib/python3.11/dist-packages (from pyLIQTR) (0.16.0)\n",
            "Requirement already satisfied: pydot in /usr/local/lib/python3.11/dist-packages (from pyLIQTR) (3.0.4)\n",
            "Requirement already satisfied: graphviz in /usr/local/lib/python3.11/dist-packages (from pyLIQTR) (0.20.3)\n",
            "Collecting openfermionpyscf (from pyLIQTR)\n",
            "  Downloading openfermionpyscf-0.5-py3-none-any.whl.metadata (6.9 kB)\n",
            "Requirement already satisfied: attrs in /usr/local/lib/python3.11/dist-packages (from qualtran==0.4.0->pyLIQTR) (25.3.0)\n",
            "Requirement already satisfied: cachetools>=5.3 in /usr/local/lib/python3.11/dist-packages (from qualtran==0.4.0->pyLIQTR) (5.5.2)\n",
            "Requirement already satisfied: sympy in /usr/local/lib/python3.11/dist-packages (from qualtran==0.4.0->pyLIQTR) (1.13.1)\n",
            "Requirement already satisfied: fxpmath in /usr/local/lib/python3.11/dist-packages (from qualtran==0.4.0->pyLIQTR) (0.4.9)\n",
            "Requirement already satisfied: nbconvert in /usr/local/lib/python3.11/dist-packages (from qualtran==0.4.0->pyLIQTR) (7.16.6)\n",
            "Requirement already satisfied: nbformat in /usr/local/lib/python3.11/dist-packages (from qualtran==0.4.0->pyLIQTR) (5.10.4)\n",
            "Requirement already satisfied: notebook in /usr/local/lib/python3.11/dist-packages (from qualtran==0.4.0->pyLIQTR) (6.5.7)\n",
            "Requirement already satisfied: ipython in /usr/local/lib/python3.11/dist-packages (from qualtran==0.4.0->pyLIQTR) (7.34.0)\n",
            "Requirement already satisfied: ipywidgets in /usr/local/lib/python3.11/dist-packages (from qualtran==0.4.0->pyLIQTR) (7.7.1)\n",
            "Requirement already satisfied: plotly in /usr/local/lib/python3.11/dist-packages (from qualtran==0.4.0->pyLIQTR) (5.24.1)\n",
            "Requirement already satisfied: dash in /usr/local/lib/python3.11/dist-packages (from qualtran==0.4.0->pyLIQTR) (3.1.1)\n",
            "Requirement already satisfied: quimb in /usr/local/lib/python3.11/dist-packages (from qualtran==0.4.0->pyLIQTR) (1.11.1)\n",
            "Requirement already satisfied: qsharp in /usr/local/lib/python3.11/dist-packages (from qualtran==0.4.0->pyLIQTR) (1.18.0)\n",
            "Requirement already satisfied: qsharp-widgets in /usr/local/lib/python3.11/dist-packages (from qualtran==0.4.0->pyLIQTR) (1.18.0)\n",
            "Requirement already satisfied: protobuf in /usr/local/lib/python3.11/dist-packages (from qualtran==0.4.0->pyLIQTR) (5.29.5)\n",
            "Requirement already satisfied: duet>=0.2.8 in /usr/local/lib/python3.11/dist-packages (from cirq-core->pyLIQTR) (0.2.9)\n",
            "Requirement already satisfied: sortedcontainers~=2.0 in /usr/local/lib/python3.11/dist-packages (from cirq-core->pyLIQTR) (2.4.0)\n",
            "Requirement already satisfied: typing-extensions>=4.2 in /usr/local/lib/python3.11/dist-packages (from cirq-core->pyLIQTR) (4.14.0)\n",
            "Requirement already satisfied: contourpy>=1.0.1 in /usr/local/lib/python3.11/dist-packages (from matplotlib->pyLIQTR) (1.3.2)\n",
            "Requirement already satisfied: cycler>=0.10 in /usr/local/lib/python3.11/dist-packages (from matplotlib->pyLIQTR) (0.12.1)\n",
            "Requirement already satisfied: fonttools>=4.22.0 in /usr/local/lib/python3.11/dist-packages (from matplotlib->pyLIQTR) (4.58.4)\n",
            "Requirement already satisfied: kiwisolver>=1.3.1 in /usr/local/lib/python3.11/dist-packages (from matplotlib->pyLIQTR) (1.4.8)\n",
            "Requirement already satisfied: packaging>=20.0 in /usr/local/lib/python3.11/dist-packages (from matplotlib->pyLIQTR) (24.2)\n",
            "Requirement already satisfied: pillow>=8 in /usr/local/lib/python3.11/dist-packages (from matplotlib->pyLIQTR) (11.2.1)\n",
            "Requirement already satisfied: pyparsing>=2.3.1 in /usr/local/lib/python3.11/dist-packages (from matplotlib->pyLIQTR) (3.1.4)\n",
            "Requirement already satisfied: python-dateutil>=2.7 in /usr/local/lib/python3.11/dist-packages (from matplotlib->pyLIQTR) (2.9.0.post0)\n",
            "Requirement already satisfied: debugpy>=1.0 in /usr/local/lib/python3.11/dist-packages (from ipykernel->pyLIQTR) (1.8.0)\n",
            "Requirement already satisfied: jupyter-client>=6.1.12 in /usr/local/lib/python3.11/dist-packages (from ipykernel->pyLIQTR) (6.1.12)\n",
            "Requirement already satisfied: matplotlib-inline>=0.1 in /usr/local/lib/python3.11/dist-packages (from ipykernel->pyLIQTR) (0.1.7)\n",
            "Requirement already satisfied: nest-asyncio in /usr/local/lib/python3.11/dist-packages (from ipykernel->pyLIQTR) (1.6.0)\n",
            "Requirement already satisfied: psutil in /usr/local/lib/python3.11/dist-packages (from ipykernel->pyLIQTR) (5.9.5)\n",
            "Requirement already satisfied: pyzmq>=17 in /usr/local/lib/python3.11/dist-packages (from ipykernel->pyLIQTR) (24.0.1)\n",
            "Requirement already satisfied: tornado>=6.1 in /usr/local/lib/python3.11/dist-packages (from ipykernel->pyLIQTR) (6.4.2)\n",
            "Requirement already satisfied: traitlets>=5.1.0 in /usr/local/lib/python3.11/dist-packages (from ipykernel->pyLIQTR) (5.7.1)\n",
            "Requirement already satisfied: filelock<4.0,>=3.16 in /usr/local/lib/python3.11/dist-packages (from juliapkg->pyLIQTR) (3.18.0)\n",
            "Collecting semver<4.0,>=3.0 (from juliapkg->pyLIQTR)\n",
            "  Downloading semver-3.0.4-py3-none-any.whl.metadata (6.8 kB)\n",
            "INFO: pip is looking at multiple versions of openfermion to determine which version is compatible with other requirements. This could take a while.\n",
            "Collecting openfermion (from pyLIQTR)\n",
            "  Downloading openfermion-1.7.0-py3-none-any.whl.metadata (13 kB)\n",
            "Collecting deprecation (from openfermion->pyLIQTR)\n",
            "  Downloading deprecation-2.1.0-py2.py3-none-any.whl.metadata (4.6 kB)\n",
            "Requirement already satisfied: h5py>=3.10.0 in /usr/local/lib/python3.11/dist-packages (from openfermion->pyLIQTR) (3.14.0)\n",
            "Collecting pubchempy (from openfermion->pyLIQTR)\n",
            "  Downloading PubChemPy-1.0.4.tar.gz (29 kB)\n",
            "  Preparing metadata (setup.py) ... \u001b[?25l\u001b[?25hdone\n",
            "Requirement already satisfied: requests~=2.32.2 in /usr/local/lib/python3.11/dist-packages (from openfermion->pyLIQTR) (2.32.3)\n",
            "Collecting pyscf (from openfermionpyscf->pyLIQTR)\n",
            "  Downloading pyscf-2.9.0-py3-none-manylinux_2_17_x86_64.manylinux2014_x86_64.whl.metadata (6.4 kB)\n",
            "Requirement already satisfied: pytest in /usr/local/lib/python3.11/dist-packages (from openfermionpyscf->pyLIQTR) (8.3.5)\n",
            "Requirement already satisfied: pytz>=2020.1 in /usr/local/lib/python3.11/dist-packages (from pandas->pyLIQTR) (2025.2)\n",
            "Requirement already satisfied: tzdata>=2022.7 in /usr/local/lib/python3.11/dist-packages (from pandas->pyLIQTR) (2025.2)\n",
            "Requirement already satisfied: setuptools>=18.5 in /usr/local/lib/python3.11/dist-packages (from ipython->qualtran==0.4.0->pyLIQTR) (75.2.0)\n",
            "Requirement already satisfied: jedi>=0.16 in /usr/local/lib/python3.11/dist-packages (from ipython->qualtran==0.4.0->pyLIQTR) (0.19.2)\n",
            "Requirement already satisfied: decorator in /usr/local/lib/python3.11/dist-packages (from ipython->qualtran==0.4.0->pyLIQTR) (4.4.2)\n",
            "Requirement already satisfied: pickleshare in /usr/local/lib/python3.11/dist-packages (from ipython->qualtran==0.4.0->pyLIQTR) (0.7.5)\n",
            "Requirement already satisfied: prompt-toolkit!=3.0.0,!=3.0.1,<3.1.0,>=2.0.0 in /usr/local/lib/python3.11/dist-packages (from ipython->qualtran==0.4.0->pyLIQTR) (3.0.51)\n",
            "Requirement already satisfied: pygments in /usr/local/lib/python3.11/dist-packages (from ipython->qualtran==0.4.0->pyLIQTR) (2.19.2)\n",
            "Requirement already satisfied: backcall in /usr/local/lib/python3.11/dist-packages (from ipython->qualtran==0.4.0->pyLIQTR) (0.2.0)\n",
            "Requirement already satisfied: pexpect>4.3 in /usr/local/lib/python3.11/dist-packages (from ipython->qualtran==0.4.0->pyLIQTR) (4.9.0)\n",
            "Requirement already satisfied: jupyter-core>=4.6.0 in /usr/local/lib/python3.11/dist-packages (from jupyter-client>=6.1.12->ipykernel->pyLIQTR) (5.8.1)\n",
            "Requirement already satisfied: six>=1.5 in /usr/local/lib/python3.11/dist-packages (from python-dateutil>=2.7->matplotlib->pyLIQTR) (1.17.0)\n",
            "Requirement already satisfied: charset-normalizer<4,>=2 in /usr/local/lib/python3.11/dist-packages (from requests~=2.32.2->openfermion->pyLIQTR) (3.4.2)\n",
            "Requirement already satisfied: idna<4,>=2.5 in /usr/local/lib/python3.11/dist-packages (from requests~=2.32.2->openfermion->pyLIQTR) (3.10)\n",
            "Requirement already satisfied: urllib3<3,>=1.21.1 in /usr/local/lib/python3.11/dist-packages (from requests~=2.32.2->openfermion->pyLIQTR) (2.4.0)\n",
            "Requirement already satisfied: certifi>=2017.4.17 in /usr/local/lib/python3.11/dist-packages (from requests~=2.32.2->openfermion->pyLIQTR) (2025.6.15)\n",
            "Requirement already satisfied: Flask<3.2,>=1.0.4 in /usr/local/lib/python3.11/dist-packages (from dash->qualtran==0.4.0->pyLIQTR) (3.1.1)\n",
            "Requirement already satisfied: Werkzeug<3.2 in /usr/local/lib/python3.11/dist-packages (from dash->qualtran==0.4.0->pyLIQTR) (3.1.3)\n",
            "Requirement already satisfied: importlib-metadata in /usr/local/lib/python3.11/dist-packages (from dash->qualtran==0.4.0->pyLIQTR) (8.7.0)\n",
            "Requirement already satisfied: retrying in /usr/local/lib/python3.11/dist-packages (from dash->qualtran==0.4.0->pyLIQTR) (1.4.0)\n",
            "Requirement already satisfied: tenacity>=6.2.0 in /usr/local/lib/python3.11/dist-packages (from plotly->qualtran==0.4.0->pyLIQTR) (8.5.0)\n",
            "Requirement already satisfied: ipython-genutils~=0.2.0 in /usr/local/lib/python3.11/dist-packages (from ipywidgets->qualtran==0.4.0->pyLIQTR) (0.2.0)\n",
            "Requirement already satisfied: widgetsnbextension~=3.6.0 in /usr/local/lib/python3.11/dist-packages (from ipywidgets->qualtran==0.4.0->pyLIQTR) (3.6.10)\n",
            "Requirement already satisfied: jupyterlab-widgets>=1.0.0 in /usr/local/lib/python3.11/dist-packages (from ipywidgets->qualtran==0.4.0->pyLIQTR) (3.0.15)\n",
            "Requirement already satisfied: beautifulsoup4 in /usr/local/lib/python3.11/dist-packages (from nbconvert->qualtran==0.4.0->pyLIQTR) (4.13.4)\n",
            "Requirement already satisfied: bleach!=5.0.0 in /usr/local/lib/python3.11/dist-packages (from bleach[css]!=5.0.0->nbconvert->qualtran==0.4.0->pyLIQTR) (6.2.0)\n",
            "Requirement already satisfied: defusedxml in /usr/local/lib/python3.11/dist-packages (from nbconvert->qualtran==0.4.0->pyLIQTR) (0.7.1)\n",
            "Requirement already satisfied: jinja2>=3.0 in /usr/local/lib/python3.11/dist-packages (from nbconvert->qualtran==0.4.0->pyLIQTR) (3.1.6)\n",
            "Requirement already satisfied: jupyterlab-pygments in /usr/local/lib/python3.11/dist-packages (from nbconvert->qualtran==0.4.0->pyLIQTR) (0.3.0)\n",
            "Requirement already satisfied: markupsafe>=2.0 in /usr/local/lib/python3.11/dist-packages (from nbconvert->qualtran==0.4.0->pyLIQTR) (3.0.2)\n",
            "Requirement already satisfied: mistune<4,>=2.0.3 in /usr/local/lib/python3.11/dist-packages (from nbconvert->qualtran==0.4.0->pyLIQTR) (3.1.3)\n",
            "Requirement already satisfied: nbclient>=0.5.0 in /usr/local/lib/python3.11/dist-packages (from nbconvert->qualtran==0.4.0->pyLIQTR) (0.10.2)\n",
            "Requirement already satisfied: pandocfilters>=1.4.1 in /usr/local/lib/python3.11/dist-packages (from nbconvert->qualtran==0.4.0->pyLIQTR) (1.5.1)\n",
            "Requirement already satisfied: fastjsonschema>=2.15 in /usr/local/lib/python3.11/dist-packages (from nbformat->qualtran==0.4.0->pyLIQTR) (2.21.1)\n",
            "Requirement already satisfied: jsonschema>=2.6 in /usr/local/lib/python3.11/dist-packages (from nbformat->qualtran==0.4.0->pyLIQTR) (4.24.0)\n",
            "Requirement already satisfied: argon2-cffi in /usr/local/lib/python3.11/dist-packages (from notebook->qualtran==0.4.0->pyLIQTR) (25.1.0)\n",
            "Requirement already satisfied: Send2Trash>=1.8.0 in /usr/local/lib/python3.11/dist-packages (from notebook->qualtran==0.4.0->pyLIQTR) (1.8.3)\n",
            "Requirement already satisfied: terminado>=0.8.3 in /usr/local/lib/python3.11/dist-packages (from notebook->qualtran==0.4.0->pyLIQTR) (0.18.1)\n",
            "Requirement already satisfied: prometheus-client in /usr/local/lib/python3.11/dist-packages (from notebook->qualtran==0.4.0->pyLIQTR) (0.22.1)\n",
            "Requirement already satisfied: nbclassic>=0.4.7 in /usr/local/lib/python3.11/dist-packages (from notebook->qualtran==0.4.0->pyLIQTR) (1.3.1)\n",
            "Requirement already satisfied: iniconfig in /usr/local/lib/python3.11/dist-packages (from pytest->openfermionpyscf->pyLIQTR) (2.1.0)\n",
            "Requirement already satisfied: pluggy<2,>=1.5 in /usr/local/lib/python3.11/dist-packages (from pytest->openfermionpyscf->pyLIQTR) (1.6.0)\n",
            "Requirement already satisfied: anywidget in /usr/local/lib/python3.11/dist-packages (from qsharp-widgets->qualtran==0.4.0->pyLIQTR) (0.9.18)\n",
            "Requirement already satisfied: autoray>=0.6.12 in /usr/local/lib/python3.11/dist-packages (from quimb->qualtran==0.4.0->pyLIQTR) (0.7.1)\n",
            "Requirement already satisfied: cotengra>=0.7.1 in /usr/local/lib/python3.11/dist-packages (from quimb->qualtran==0.4.0->pyLIQTR) (0.7.5)\n",
            "Requirement already satisfied: cytoolz>=0.8.0 in /usr/local/lib/python3.11/dist-packages (from quimb->qualtran==0.4.0->pyLIQTR) (1.0.1)\n",
            "Requirement already satisfied: numba>=0.39 in /usr/local/lib/python3.11/dist-packages (from quimb->qualtran==0.4.0->pyLIQTR) (0.60.0)\n",
            "Requirement already satisfied: mpmath<1.4,>=1.1.0 in /usr/local/lib/python3.11/dist-packages (from sympy->qualtran==0.4.0->pyLIQTR) (1.3.0)\n",
            "Requirement already satisfied: webencodings in /usr/local/lib/python3.11/dist-packages (from bleach!=5.0.0->bleach[css]!=5.0.0->nbconvert->qualtran==0.4.0->pyLIQTR) (0.5.1)\n",
            "Requirement already satisfied: tinycss2<1.5,>=1.1.0 in /usr/local/lib/python3.11/dist-packages (from bleach[css]!=5.0.0->nbconvert->qualtran==0.4.0->pyLIQTR) (1.4.0)\n",
            "Requirement already satisfied: toolz>=0.8.0 in /usr/local/lib/python3.11/dist-packages (from cytoolz>=0.8.0->quimb->qualtran==0.4.0->pyLIQTR) (0.12.1)\n",
            "Requirement already satisfied: blinker>=1.9.0 in /usr/local/lib/python3.11/dist-packages (from Flask<3.2,>=1.0.4->dash->qualtran==0.4.0->pyLIQTR) (1.9.0)\n",
            "Requirement already satisfied: click>=8.1.3 in /usr/local/lib/python3.11/dist-packages (from Flask<3.2,>=1.0.4->dash->qualtran==0.4.0->pyLIQTR) (8.2.1)\n",
            "Requirement already satisfied: itsdangerous>=2.2.0 in /usr/local/lib/python3.11/dist-packages (from Flask<3.2,>=1.0.4->dash->qualtran==0.4.0->pyLIQTR) (2.2.0)\n",
            "Requirement already satisfied: parso<0.9.0,>=0.8.4 in /usr/local/lib/python3.11/dist-packages (from jedi>=0.16->ipython->qualtran==0.4.0->pyLIQTR) (0.8.4)\n",
            "Requirement already satisfied: jsonschema-specifications>=2023.03.6 in /usr/local/lib/python3.11/dist-packages (from jsonschema>=2.6->nbformat->qualtran==0.4.0->pyLIQTR) (2025.4.1)\n",
            "Requirement already satisfied: referencing>=0.28.4 in /usr/local/lib/python3.11/dist-packages (from jsonschema>=2.6->nbformat->qualtran==0.4.0->pyLIQTR) (0.36.2)\n",
            "Requirement already satisfied: rpds-py>=0.7.1 in /usr/local/lib/python3.11/dist-packages (from jsonschema>=2.6->nbformat->qualtran==0.4.0->pyLIQTR) (0.26.0)\n",
            "Requirement already satisfied: platformdirs>=2.5 in /usr/local/lib/python3.11/dist-packages (from jupyter-core>=4.6.0->jupyter-client>=6.1.12->ipykernel->pyLIQTR) (4.3.8)\n",
            "Requirement already satisfied: notebook-shim>=0.2.3 in /usr/local/lib/python3.11/dist-packages (from nbclassic>=0.4.7->notebook->qualtran==0.4.0->pyLIQTR) (0.2.4)\n",
            "Requirement already satisfied: llvmlite<0.44,>=0.43.0dev0 in /usr/local/lib/python3.11/dist-packages (from numba>=0.39->quimb->qualtran==0.4.0->pyLIQTR) (0.43.0)\n",
            "Requirement already satisfied: ptyprocess>=0.5 in /usr/local/lib/python3.11/dist-packages (from pexpect>4.3->ipython->qualtran==0.4.0->pyLIQTR) (0.7.0)\n",
            "Requirement already satisfied: wcwidth in /usr/local/lib/python3.11/dist-packages (from prompt-toolkit!=3.0.0,!=3.0.1,<3.1.0,>=2.0.0->ipython->qualtran==0.4.0->pyLIQTR) (0.2.13)\n",
            "Requirement already satisfied: psygnal>=0.8.1 in /usr/local/lib/python3.11/dist-packages (from anywidget->qsharp-widgets->qualtran==0.4.0->pyLIQTR) (0.14.0)\n",
            "Requirement already satisfied: argon2-cffi-bindings in /usr/local/lib/python3.11/dist-packages (from argon2-cffi->notebook->qualtran==0.4.0->pyLIQTR) (21.2.0)\n",
            "Requirement already satisfied: soupsieve>1.2 in /usr/local/lib/python3.11/dist-packages (from beautifulsoup4->nbconvert->qualtran==0.4.0->pyLIQTR) (2.7)\n",
            "Requirement already satisfied: zipp>=3.20 in /usr/local/lib/python3.11/dist-packages (from importlib-metadata->dash->qualtran==0.4.0->pyLIQTR) (3.23.0)\n",
            "Requirement already satisfied: jupyter-server<3,>=1.8 in /usr/local/lib/python3.11/dist-packages (from notebook-shim>=0.2.3->nbclassic>=0.4.7->notebook->qualtran==0.4.0->pyLIQTR) (1.16.0)\n",
            "Requirement already satisfied: cffi>=1.0.1 in /usr/local/lib/python3.11/dist-packages (from argon2-cffi-bindings->argon2-cffi->notebook->qualtran==0.4.0->pyLIQTR) (1.17.1)\n",
            "Requirement already satisfied: pycparser in /usr/local/lib/python3.11/dist-packages (from cffi>=1.0.1->argon2-cffi-bindings->argon2-cffi->notebook->qualtran==0.4.0->pyLIQTR) (2.22)\n",
            "Requirement already satisfied: anyio>=3.1.0 in /usr/local/lib/python3.11/dist-packages (from jupyter-server<3,>=1.8->notebook-shim>=0.2.3->nbclassic>=0.4.7->notebook->qualtran==0.4.0->pyLIQTR) (4.9.0)\n",
            "Requirement already satisfied: websocket-client in /usr/local/lib/python3.11/dist-packages (from jupyter-server<3,>=1.8->notebook-shim>=0.2.3->nbclassic>=0.4.7->notebook->qualtran==0.4.0->pyLIQTR) (1.8.0)\n",
            "Requirement already satisfied: sniffio>=1.1 in /usr/local/lib/python3.11/dist-packages (from anyio>=3.1.0->jupyter-server<3,>=1.8->notebook-shim>=0.2.3->nbclassic>=0.4.7->notebook->qualtran==0.4.0->pyLIQTR) (1.3.1)\n",
            "Downloading pyliqtr-1.3.9-py3-none-any.whl (433 kB)\n",
            "\u001b[2K   \u001b[90m━━━━━━━━━━━━━━━━━━━━━━━━━━━━━━━━━━━━━━━━\u001b[0m \u001b[32m434.0/434.0 kB\u001b[0m \u001b[31m9.3 MB/s\u001b[0m eta \u001b[36m0:00:00\u001b[0m\n",
            "\u001b[?25hDownloading qualtran-0.4.0-py3-none-any.whl (909 kB)\n",
            "\u001b[2K   \u001b[90m━━━━━━━━━━━━━━━━━━━━━━━━━━━━━━━━━━━━━━━━\u001b[0m \u001b[32m909.2/909.2 kB\u001b[0m \u001b[31m29.6 MB/s\u001b[0m eta \u001b[36m0:00:00\u001b[0m\n",
            "\u001b[?25hDownloading gmpy2-2.2.1-cp311-cp311-manylinux_2_17_x86_64.manylinux2014_x86_64.whl (1.7 MB)\n",
            "\u001b[2K   \u001b[90m━━━━━━━━━━━━━━━━━━━━━━━━━━━━━━━━━━━━━━━━\u001b[0m \u001b[32m1.7/1.7 MB\u001b[0m \u001b[31m12.4 MB/s\u001b[0m eta \u001b[36m0:00:00\u001b[0m\n",
            "\u001b[?25hDownloading juliacall-0.9.25-py3-none-any.whl (12 kB)\n",
            "Downloading juliapkg-0.1.17-py3-none-any.whl (16 kB)\n",
            "Downloading openfermion-1.7.0-py3-none-any.whl (44.7 MB)\n",
            "\u001b[2K   \u001b[90m━━━━━━━━━━━━━━━━━━━━━━━━━━━━━━━━━━━━━━━━\u001b[0m \u001b[32m44.7/44.7 MB\u001b[0m \u001b[31m14.4 MB/s\u001b[0m eta \u001b[36m0:00:00\u001b[0m\n",
            "\u001b[?25hDownloading openfermionpyscf-0.5-py3-none-any.whl (16 kB)\n",
            "Downloading portalocker-3.2.0-py3-none-any.whl (22 kB)\n",
            "Downloading semver-3.0.4-py3-none-any.whl (17 kB)\n",
            "Downloading deprecation-2.1.0-py2.py3-none-any.whl (11 kB)\n",
            "Downloading pyscf-2.9.0-py3-none-manylinux_2_17_x86_64.manylinux2014_x86_64.whl (50.9 MB)\n",
            "\u001b[2K   \u001b[90m━━━━━━━━━━━━━━━━━━━━━━━━━━━━━━━━━━━━━━━━\u001b[0m \u001b[32m50.9/50.9 MB\u001b[0m \u001b[31m13.1 MB/s\u001b[0m eta \u001b[36m0:00:00\u001b[0m\n",
            "\u001b[?25hBuilding wheels for collected packages: pubchempy\n",
            "  Building wheel for pubchempy (setup.py) ... \u001b[?25l\u001b[?25hdone\n",
            "  Created wheel for pubchempy: filename=PubChemPy-1.0.4-py3-none-any.whl size=13818 sha256=2c9934fe3c0f71df64a9f142001e0ea9eefdbd42fe8fa97cc7b75a27310ebbcb\n",
            "  Stored in directory: /root/.cache/pip/wheels/8b/e3/6c/3385b2db08b0985a87f5b117f98d0cb61a3ae3ca3bcbbd8307\n",
            "Successfully built pubchempy\n",
            "Installing collected packages: pubchempy, semver, portalocker, gmpy2, deprecation, pyscf, juliapkg, juliacall, openfermion, openfermionpyscf, qualtran, pyLIQTR\n",
            "  Attempting uninstall: qualtran\n",
            "    Found existing installation: qualtran 0.6.1\n",
            "    Uninstalling qualtran-0.6.1:\n",
            "      Successfully uninstalled qualtran-0.6.1\n",
            "Successfully installed deprecation-2.1.0 gmpy2-2.2.1 juliacall-0.9.25 juliapkg-0.1.17 openfermion-1.7.0 openfermionpyscf-0.5 portalocker-3.2.0 pubchempy-1.0.4 pyLIQTR-1.3.9 pyscf-2.9.0 qualtran-0.4.0 semver-3.0.4\n"
          ]
        }
      ],
      "source": [
        "!pip install pyLIQTR"
      ]
    },
    {
      "cell_type": "code",
      "execution_count": null,
      "metadata": {
        "id": "i2gKDimfCUOt"
      },
      "outputs": [],
      "source": [
        "import matplotlib.pyplot as plt\n",
        "import cirq\n",
        "import numpy as np\n",
        "from qualtran.bloqs.data_loading.qrom import QROM\n",
        "from qualtran._infra.gate_with_registers import get_named_qubits\n",
        "from qualtran.cirq_interop import _bloq_to_cirq\n",
        "from cirq.contrib.svg import SVGCircuit"
      ]
    },
    {
      "cell_type": "markdown",
      "metadata": {
        "id": "hmY7ksJwCUqC"
      },
      "source": [
        "# QROM Test"
      ]
    },
    {
      "cell_type": "code",
      "execution_count": null,
      "metadata": {
        "colab": {
          "base_uri": "https://localhost:8080/",
          "height": 339
        },
        "id": "h4kvaNgeuWTB",
        "outputId": "101a1707-e4ce-4b5c-e640-4ffb6da55986"
      },
      "outputs": [
        {
          "name": "stdout",
          "output_type": "stream",
          "text": [
            "Cirq Circuit for QROM:\n"
          ]
        },
        {
          "data": {
            "image/svg+xml": [
              "<svg xmlns=\"http://www.w3.org/2000/svg\" width=\"187.368828125\" height=\"300.0\"><line x1=\"30.0\" x2=\"157.368828125\" y1=\"25.0\" y2=\"25.0\" stroke=\"#1967d2\" stroke-width=\"1\" /><line x1=\"30.0\" x2=\"157.368828125\" y1=\"75.0\" y2=\"75.0\" stroke=\"#1967d2\" stroke-width=\"1\" /><line x1=\"30.0\" x2=\"157.368828125\" y1=\"125.0\" y2=\"125.0\" stroke=\"#1967d2\" stroke-width=\"1\" /><line x1=\"30.0\" x2=\"157.368828125\" y1=\"175.0\" y2=\"175.0\" stroke=\"#1967d2\" stroke-width=\"1\" /><line x1=\"30.0\" x2=\"157.368828125\" y1=\"225.0\" y2=\"225.0\" stroke=\"#1967d2\" stroke-width=\"1\" /><line x1=\"30.0\" x2=\"157.368828125\" y1=\"275.0\" y2=\"275.0\" stroke=\"#1967d2\" stroke-width=\"1\" /><line x1=\"103.6844140625\" x2=\"103.6844140625\" y1=\"25.0\" y2=\"275.0\" stroke=\"black\" stroke-width=\"3\" /><rect x=\"10.0\" y=\"5.0\" width=\"40\" height=\"40\" stroke=\"black\" fill=\"white\" stroke-width=\"0\" /><text x=\"30.0\" y=\"25.0\" dominant-baseline=\"middle\" text-anchor=\"middle\" font-size=\"14px\" font-family=\"sans\\-serif:style=normal:variant=normal:weight=normal:stretch=normal:size=10.0\">s0: </text><rect x=\"10.0\" y=\"55.0\" width=\"40\" height=\"40\" stroke=\"black\" fill=\"white\" stroke-width=\"0\" /><text x=\"30.0\" y=\"75.0\" dominant-baseline=\"middle\" text-anchor=\"middle\" font-size=\"14px\" font-family=\"sans\\-serif:style=normal:variant=normal:weight=normal:stretch=normal:size=10.0\">s1: </text><rect x=\"10.0\" y=\"105.0\" width=\"40\" height=\"40\" stroke=\"black\" fill=\"white\" stroke-width=\"0\" /><text x=\"30.0\" y=\"125.0\" dominant-baseline=\"middle\" text-anchor=\"middle\" font-size=\"14px\" font-family=\"sans\\-serif:style=normal:variant=normal:weight=normal:stretch=normal:size=10.0\">s2: </text><rect x=\"10.0\" y=\"155.0\" width=\"40\" height=\"40\" stroke=\"black\" fill=\"white\" stroke-width=\"0\" /><text x=\"30.0\" y=\"175.0\" dominant-baseline=\"middle\" text-anchor=\"middle\" font-size=\"14px\" font-family=\"sans\\-serif:style=normal:variant=normal:weight=normal:stretch=normal:size=10.0\">t0: </text><rect x=\"10.0\" y=\"205.0\" width=\"40\" height=\"40\" stroke=\"black\" fill=\"white\" stroke-width=\"0\" /><text x=\"30.0\" y=\"225.0\" dominant-baseline=\"middle\" text-anchor=\"middle\" font-size=\"14px\" font-family=\"sans\\-serif:style=normal:variant=normal:weight=normal:stretch=normal:size=10.0\">t1: </text><rect x=\"10.0\" y=\"255.0\" width=\"40\" height=\"40\" stroke=\"black\" fill=\"white\" stroke-width=\"0\" /><text x=\"30.0\" y=\"275.0\" dominant-baseline=\"middle\" text-anchor=\"middle\" font-size=\"14px\" font-family=\"sans\\-serif:style=normal:variant=normal:weight=normal:stretch=normal:size=10.0\">t2: </text><rect x=\"70.0\" y=\"5.0\" width=\"67.368828125\" height=\"40\" stroke=\"black\" fill=\"white\" stroke-width=\"1\" /><text x=\"103.6844140625\" y=\"25.0\" dominant-baseline=\"middle\" text-anchor=\"middle\" font-size=\"14px\" font-family=\"sans\\-serif:style=normal:variant=normal:weight=normal:stretch=normal:size=10.0\">In</text><rect x=\"70.0\" y=\"55.0\" width=\"67.368828125\" height=\"40\" stroke=\"black\" fill=\"white\" stroke-width=\"1\" /><text x=\"103.6844140625\" y=\"75.0\" dominant-baseline=\"middle\" text-anchor=\"middle\" font-size=\"14px\" font-family=\"sans\\-serif:style=normal:variant=normal:weight=normal:stretch=normal:size=10.0\">In</text><rect x=\"70.0\" y=\"105.0\" width=\"67.368828125\" height=\"40\" stroke=\"black\" fill=\"white\" stroke-width=\"1\" /><text x=\"103.6844140625\" y=\"125.0\" dominant-baseline=\"middle\" text-anchor=\"middle\" font-size=\"14px\" font-family=\"sans\\-serif:style=normal:variant=normal:weight=normal:stretch=normal:size=10.0\">In</text><rect x=\"70.0\" y=\"155.0\" width=\"67.368828125\" height=\"40\" stroke=\"black\" fill=\"white\" stroke-width=\"1\" /><text x=\"103.6844140625\" y=\"175.0\" dominant-baseline=\"middle\" text-anchor=\"middle\" font-size=\"14px\" font-family=\"sans\\-serif:style=normal:variant=normal:weight=normal:stretch=normal:size=10.0\">QROM_a</text><rect x=\"70.0\" y=\"205.0\" width=\"67.368828125\" height=\"40\" stroke=\"black\" fill=\"white\" stroke-width=\"1\" /><text x=\"103.6844140625\" y=\"225.0\" dominant-baseline=\"middle\" text-anchor=\"middle\" font-size=\"14px\" font-family=\"sans\\-serif:style=normal:variant=normal:weight=normal:stretch=normal:size=10.0\">QROM_a</text><rect x=\"70.0\" y=\"255.0\" width=\"67.368828125\" height=\"40\" stroke=\"black\" fill=\"white\" stroke-width=\"1\" /><text x=\"103.6844140625\" y=\"275.0\" dominant-baseline=\"middle\" text-anchor=\"middle\" font-size=\"14px\" font-family=\"sans\\-serif:style=normal:variant=normal:weight=normal:stretch=normal:size=10.0\">QROM_a</text></svg>"
            ],
            "text/plain": [
              "<cirq.contrib.svg.svg.SVGCircuit at 0x7c6d29238990>"
            ]
          },
          "execution_count": 17,
          "metadata": {},
          "output_type": "execute_result"
        }
      ],
      "source": [
        "\n",
        "# --- Setup: QROM constants\n",
        "data = np.arange(8)\n",
        "qrom = QROM([data], selection_bitsizes=(3,), target_bitsizes=(3,))\n",
        "\n",
        "# --- Allocate qubits\n",
        "ctrl_bits = sum(qrom.selection_bitsizes)  # log2(number of constants)\n",
        "target_bits = sum(qrom.target_bitsizes)\n",
        "\n",
        "# Qubits: address (control) + target\n",
        "r = qrom.signature\n",
        "quregs = get_named_qubits(r)\n",
        "\n",
        "# --- Create Qualtran Operation\n",
        "# qualtran_op = qrom.on_registers(**quregs)\n",
        "\n",
        "selection_register = [cirq.NamedQubit('s' + str(i)) for i in range(ctrl_bits)]\n",
        "target_register = [cirq.NamedQubit('t' + str(i)) for i in range(target_bits)]\n",
        "qrom_cirq = qrom.as_composite_bloq().to_cirq_circuit(\n",
        "    cirq_quregs= {'selection': selection_register, 'target0_':target_register}\n",
        ")\n",
        "\n",
        "# --- Decompose into Cirq\n",
        "\n",
        "# cirq_ops = cirq.Circuit(qualtran_op)\n",
        "\n",
        "\n",
        "# --- Output\n",
        "print(\"Cirq Circuit for QROM:\")\n",
        "SVGCircuit(qrom_cirq)"
      ]
    },
    {
      "cell_type": "code",
      "execution_count": null,
      "metadata": {
        "colab": {
          "base_uri": "https://localhost:8080/"
        },
        "id": "WAdNUqdryLFJ",
        "outputId": "9b25539d-867b-463d-d013-1b7841ba807e"
      },
      "outputs": [
        {
          "name": "stdout",
          "output_type": "stream",
          "text": [
            "Counter({0: 10})\n"
          ]
        }
      ],
      "source": [
        "simulator = cirq.Simulator()\n",
        "circuit = cirq.Circuit()\n",
        "circuit.append(qrom_cirq)\n",
        "circuit.append(cirq.measure(target_register, key='result'))\n",
        "\n",
        "result = simulator.run(circuit, repetitions=10)\n",
        "result = cirq.ResultDict(records={'result': result.records['result']})\n",
        "print(result.histogram(key='result'))\n"
      ]
    },
    {
      "cell_type": "code",
      "execution_count": null,
      "metadata": {
        "id": "nFV3gQqH78xn"
      },
      "outputs": [],
      "source": [
        "from qualtran.bloqs.arithmetic.trigonometric import ArcSin\n",
        "arcsin = ArcSin(bitsize=10, num_frac=7)"
      ]
    },
    {
      "cell_type": "code",
      "execution_count": null,
      "metadata": {
        "colab": {
          "base_uri": "https://localhost:8080/"
        },
        "id": "iI1OlUpI7_dR",
        "outputId": "7849059f-129c-492d-a52c-690c0669809a"
      },
      "outputs": [
        {
          "data": {
            "text/plain": [
              "{'x': 512, 'result': 536}"
            ]
          },
          "execution_count": 68,
          "metadata": {},
          "output_type": "execute_result"
        }
      ],
      "source": [
        "vals = {'x': 512, 'result': 0}\n",
        "arcsin.as_composite_bloq().on_classical_vals(**vals)"
      ]
    },
    {
      "cell_type": "code",
      "execution_count": null,
      "metadata": {
        "colab": {
          "base_uri": "https://localhost:8080/"
        },
        "id": "jV2NI4Mj8eZj",
        "outputId": "9386b5be-20c4-42ac-9e00-983e7a955cea"
      },
      "outputs": [
        {
          "data": {
            "text/plain": [
              "536.1651462126581"
            ]
          },
          "execution_count": 70,
          "metadata": {},
          "output_type": "execute_result"
        }
      ],
      "source": [
        "np.arcsin(1/2)*1024"
      ]
    },
    {
      "cell_type": "code",
      "execution_count": null,
      "metadata": {
        "colab": {
          "base_uri": "https://localhost:8080/",
          "height": 339
        },
        "id": "-RahWqq0CX4D",
        "outputId": "bfad7ecb-09b6-4dca-db70-d4eb1675b783"
      },
      "outputs": [
        {
          "name": "stdout",
          "output_type": "stream",
          "text": [
            "Cirq Circuit for QROM:\n"
          ]
        },
        {
          "data": {
            "image/svg+xml": [
              "<svg xmlns=\"http://www.w3.org/2000/svg\" width=\"167.99359375\" height=\"300.0\"><line x1=\"30.0\" x2=\"137.99359375\" y1=\"25.0\" y2=\"25.0\" stroke=\"#1967d2\" stroke-width=\"1\" /><line x1=\"30.0\" x2=\"137.99359375\" y1=\"75.0\" y2=\"75.0\" stroke=\"#1967d2\" stroke-width=\"1\" /><line x1=\"30.0\" x2=\"137.99359375\" y1=\"125.0\" y2=\"125.0\" stroke=\"#1967d2\" stroke-width=\"1\" /><line x1=\"30.0\" x2=\"137.99359375\" y1=\"175.0\" y2=\"175.0\" stroke=\"#1967d2\" stroke-width=\"1\" /><line x1=\"30.0\" x2=\"137.99359375\" y1=\"225.0\" y2=\"225.0\" stroke=\"#1967d2\" stroke-width=\"1\" /><line x1=\"30.0\" x2=\"137.99359375\" y1=\"275.0\" y2=\"275.0\" stroke=\"#1967d2\" stroke-width=\"1\" /><line x1=\"93.996796875\" x2=\"93.996796875\" y1=\"25.0\" y2=\"275.0\" stroke=\"black\" stroke-width=\"3\" /><rect x=\"10.0\" y=\"5.0\" width=\"40\" height=\"40\" stroke=\"black\" fill=\"white\" stroke-width=\"0\" /><text x=\"30.0\" y=\"25.0\" dominant-baseline=\"middle\" text-anchor=\"middle\" font-size=\"14px\" font-family=\"sans\\-serif:style=normal:variant=normal:weight=normal:stretch=normal:size=10.0\">s0: </text><rect x=\"10.0\" y=\"55.0\" width=\"40\" height=\"40\" stroke=\"black\" fill=\"white\" stroke-width=\"0\" /><text x=\"30.0\" y=\"75.0\" dominant-baseline=\"middle\" text-anchor=\"middle\" font-size=\"14px\" font-family=\"sans\\-serif:style=normal:variant=normal:weight=normal:stretch=normal:size=10.0\">s1: </text><rect x=\"10.0\" y=\"105.0\" width=\"40\" height=\"40\" stroke=\"black\" fill=\"white\" stroke-width=\"0\" /><text x=\"30.0\" y=\"125.0\" dominant-baseline=\"middle\" text-anchor=\"middle\" font-size=\"14px\" font-family=\"sans\\-serif:style=normal:variant=normal:weight=normal:stretch=normal:size=10.0\">s2: </text><rect x=\"10.0\" y=\"155.0\" width=\"40\" height=\"40\" stroke=\"black\" fill=\"white\" stroke-width=\"0\" /><text x=\"30.0\" y=\"175.0\" dominant-baseline=\"middle\" text-anchor=\"middle\" font-size=\"14px\" font-family=\"sans\\-serif:style=normal:variant=normal:weight=normal:stretch=normal:size=10.0\">t0: </text><rect x=\"10.0\" y=\"205.0\" width=\"40\" height=\"40\" stroke=\"black\" fill=\"white\" stroke-width=\"0\" /><text x=\"30.0\" y=\"225.0\" dominant-baseline=\"middle\" text-anchor=\"middle\" font-size=\"14px\" font-family=\"sans\\-serif:style=normal:variant=normal:weight=normal:stretch=normal:size=10.0\">t1: </text><rect x=\"10.0\" y=\"255.0\" width=\"40\" height=\"40\" stroke=\"black\" fill=\"white\" stroke-width=\"0\" /><text x=\"30.0\" y=\"275.0\" dominant-baseline=\"middle\" text-anchor=\"middle\" font-size=\"14px\" font-family=\"sans\\-serif:style=normal:variant=normal:weight=normal:stretch=normal:size=10.0\">t2: </text><rect x=\"70.0\" y=\"5.0\" width=\"47.99359375\" height=\"40\" stroke=\"black\" fill=\"white\" stroke-width=\"1\" /><text x=\"93.996796875\" y=\"25.0\" dominant-baseline=\"middle\" text-anchor=\"middle\" font-size=\"18px\" font-family=\"sans\\-serif:style=normal:variant=normal:weight=normal:stretch=normal:size=10.0\">x</text><rect x=\"70.0\" y=\"55.0\" width=\"47.99359375\" height=\"40\" stroke=\"black\" fill=\"white\" stroke-width=\"1\" /><text x=\"93.996796875\" y=\"75.0\" dominant-baseline=\"middle\" text-anchor=\"middle\" font-size=\"18px\" font-family=\"sans\\-serif:style=normal:variant=normal:weight=normal:stretch=normal:size=10.0\">x</text><rect x=\"70.0\" y=\"105.0\" width=\"47.99359375\" height=\"40\" stroke=\"black\" fill=\"white\" stroke-width=\"1\" /><text x=\"93.996796875\" y=\"125.0\" dominant-baseline=\"middle\" text-anchor=\"middle\" font-size=\"18px\" font-family=\"sans\\-serif:style=normal:variant=normal:weight=normal:stretch=normal:size=10.0\">x</text><rect x=\"70.0\" y=\"155.0\" width=\"47.99359375\" height=\"40\" stroke=\"black\" fill=\"white\" stroke-width=\"1\" /><text x=\"93.996796875\" y=\"175.0\" dominant-baseline=\"middle\" text-anchor=\"middle\" font-size=\"14px\" font-family=\"sans\\-serif:style=normal:variant=normal:weight=normal:stretch=normal:size=10.0\">result</text><rect x=\"70.0\" y=\"205.0\" width=\"47.99359375\" height=\"40\" stroke=\"black\" fill=\"white\" stroke-width=\"1\" /><text x=\"93.996796875\" y=\"225.0\" dominant-baseline=\"middle\" text-anchor=\"middle\" font-size=\"14px\" font-family=\"sans\\-serif:style=normal:variant=normal:weight=normal:stretch=normal:size=10.0\">result</text><rect x=\"70.0\" y=\"255.0\" width=\"47.99359375\" height=\"40\" stroke=\"black\" fill=\"white\" stroke-width=\"1\" /><text x=\"93.996796875\" y=\"275.0\" dominant-baseline=\"middle\" text-anchor=\"middle\" font-size=\"14px\" font-family=\"sans\\-serif:style=normal:variant=normal:weight=normal:stretch=normal:size=10.0\">result</text></svg>"
            ],
            "text/plain": [
              "<cirq.contrib.svg.svg.SVGCircuit at 0x7c6d275d0e10>"
            ]
          },
          "execution_count": 107,
          "metadata": {},
          "output_type": "execute_result"
        }
      ],
      "source": [
        "\n",
        "# --- Setup: QROM constants\n",
        "data = np.arange(8)\n",
        "arcsin = ArcSin(bitsize=3, num_frac=2)\n",
        "\n",
        "x_register = [cirq.NamedQubit('s' + str(i)) for i in range(3)]\n",
        "result_register = [cirq.NamedQubit('t' + str(i)) for i in range(3)]\n",
        "arcsin_cirq = arcsin.as_composite_bloq().to_cirq_circuit(\n",
        "    cirq_quregs= {'x': x_register, 'result':result_register}\n",
        ")\n",
        "\n",
        "print(\"Cirq Circuit for QROM:\")\n",
        "SVGCircuit(arcsin_cirq)"
      ]
    },
    {
      "cell_type": "code",
      "execution_count": null,
      "metadata": {
        "colab": {
          "base_uri": "https://localhost:8080/",
          "height": 1000
        },
        "id": "LkmHrssIgKLl",
        "outputId": "a9be9e7e-ac99-40a2-8453-31584b8cdc18"
      },
      "outputs": [
        {
          "ename": "NotImplementedError",
          "evalue": "ArcSin does not support tensor simulation.",
          "output_type": "error",
          "traceback": [
            "\u001b[0;31m---------------------------------------------------------------------------\u001b[0m",
            "\u001b[0;31mDecomposeNotImplementedError\u001b[0m              Traceback (most recent call last)",
            "\u001b[0;32m/usr/local/lib/python3.11/dist-packages/qualtran/cirq_interop/_bloq_to_cirq.py\u001b[0m in \u001b[0;36m_unitary_\u001b[0;34m(self)\u001b[0m\n\u001b[1;32m    147\u001b[0m             \u001b[0;32mtry\u001b[0m\u001b[0;34m:\u001b[0m\u001b[0;34m\u001b[0m\u001b[0;34m\u001b[0m\u001b[0m\n\u001b[0;32m--> 148\u001b[0;31m                 \u001b[0m_\u001b[0m \u001b[0;34m=\u001b[0m \u001b[0mself\u001b[0m\u001b[0;34m.\u001b[0m\u001b[0mbloq\u001b[0m\u001b[0;34m.\u001b[0m\u001b[0mdecompose_bloq\u001b[0m\u001b[0;34m(\u001b[0m\u001b[0;34m)\u001b[0m  \u001b[0;31m# check for decomposability\u001b[0m\u001b[0;34m\u001b[0m\u001b[0;34m\u001b[0m\u001b[0m\n\u001b[0m\u001b[1;32m    149\u001b[0m                 \u001b[0;32mreturn\u001b[0m \u001b[0mNotImplemented\u001b[0m\u001b[0;34m\u001b[0m\u001b[0;34m\u001b[0m\u001b[0m\n",
            "\u001b[0;32m/usr/local/lib/python3.11/dist-packages/qualtran/_infra/bloq.py\u001b[0m in \u001b[0;36mdecompose_bloq\u001b[0;34m(self)\u001b[0m\n\u001b[1;32m    146\u001b[0m         \"\"\"\n\u001b[0;32m--> 147\u001b[0;31m         \u001b[0;32mreturn\u001b[0m \u001b[0m_decompose_from_build_composite_bloq\u001b[0m\u001b[0;34m(\u001b[0m\u001b[0mself\u001b[0m\u001b[0;34m)\u001b[0m\u001b[0;34m\u001b[0m\u001b[0;34m\u001b[0m\u001b[0m\n\u001b[0m\u001b[1;32m    148\u001b[0m \u001b[0;34m\u001b[0m\u001b[0m\n",
            "\u001b[0;32m/usr/local/lib/python3.11/dist-packages/qualtran/_infra/bloq.py\u001b[0m in \u001b[0;36m_decompose_from_build_composite_bloq\u001b[0;34m(bloq)\u001b[0m\n\u001b[1;32m     58\u001b[0m     \u001b[0mbb\u001b[0m\u001b[0;34m,\u001b[0m \u001b[0minitial_soqs\u001b[0m \u001b[0;34m=\u001b[0m \u001b[0mBloqBuilder\u001b[0m\u001b[0;34m.\u001b[0m\u001b[0mfrom_signature\u001b[0m\u001b[0;34m(\u001b[0m\u001b[0mbloq\u001b[0m\u001b[0;34m.\u001b[0m\u001b[0msignature\u001b[0m\u001b[0;34m,\u001b[0m \u001b[0madd_registers_allowed\u001b[0m\u001b[0;34m=\u001b[0m\u001b[0;32mFalse\u001b[0m\u001b[0;34m)\u001b[0m\u001b[0;34m\u001b[0m\u001b[0;34m\u001b[0m\u001b[0m\n\u001b[0;32m---> 59\u001b[0;31m     \u001b[0mout_soqs\u001b[0m \u001b[0;34m=\u001b[0m \u001b[0mbloq\u001b[0m\u001b[0;34m.\u001b[0m\u001b[0mbuild_composite_bloq\u001b[0m\u001b[0;34m(\u001b[0m\u001b[0mbb\u001b[0m\u001b[0;34m=\u001b[0m\u001b[0mbb\u001b[0m\u001b[0;34m,\u001b[0m \u001b[0;34m**\u001b[0m\u001b[0minitial_soqs\u001b[0m\u001b[0;34m)\u001b[0m\u001b[0;34m\u001b[0m\u001b[0;34m\u001b[0m\u001b[0m\n\u001b[0m\u001b[1;32m     60\u001b[0m     \u001b[0;32mreturn\u001b[0m \u001b[0mbb\u001b[0m\u001b[0;34m.\u001b[0m\u001b[0mfinalize\u001b[0m\u001b[0;34m(\u001b[0m\u001b[0;34m**\u001b[0m\u001b[0mout_soqs\u001b[0m\u001b[0;34m)\u001b[0m\u001b[0;34m\u001b[0m\u001b[0;34m\u001b[0m\u001b[0m\n",
            "\u001b[0;32m/usr/local/lib/python3.11/dist-packages/qualtran/_infra/bloq.py\u001b[0m in \u001b[0;36mbuild_composite_bloq\u001b[0;34m(self, bb, **soqs)\u001b[0m\n\u001b[1;32m    130\u001b[0m         \"\"\"\n\u001b[0;32m--> 131\u001b[0;31m         \u001b[0;32mraise\u001b[0m \u001b[0mDecomposeNotImplementedError\u001b[0m\u001b[0;34m(\u001b[0m\u001b[0;34mf\"{self} does not declare a decomposition.\"\u001b[0m\u001b[0;34m)\u001b[0m\u001b[0;34m\u001b[0m\u001b[0;34m\u001b[0m\u001b[0m\n\u001b[0m\u001b[1;32m    132\u001b[0m \u001b[0;34m\u001b[0m\u001b[0m\n",
            "\u001b[0;31mDecomposeNotImplementedError\u001b[0m: ArcSin does not declare a decomposition.",
            "\nDuring handling of the above exception, another exception occurred:\n",
            "\u001b[0;31mNotImplementedError\u001b[0m                       Traceback (most recent call last)",
            "\u001b[0;32m/tmp/ipython-input-108-1780305146.py\u001b[0m in \u001b[0;36m<cell line: 0>\u001b[0;34m()\u001b[0m\n\u001b[1;32m      4\u001b[0m \u001b[0mcircuit\u001b[0m\u001b[0;34m.\u001b[0m\u001b[0mappend\u001b[0m\u001b[0;34m(\u001b[0m\u001b[0mcirq\u001b[0m\u001b[0;34m.\u001b[0m\u001b[0mmeasure\u001b[0m\u001b[0;34m(\u001b[0m\u001b[0mresult_register\u001b[0m\u001b[0;34m,\u001b[0m \u001b[0mkey\u001b[0m\u001b[0;34m=\u001b[0m\u001b[0;34m'result'\u001b[0m\u001b[0;34m)\u001b[0m\u001b[0;34m)\u001b[0m\u001b[0;34m\u001b[0m\u001b[0;34m\u001b[0m\u001b[0m\n\u001b[1;32m      5\u001b[0m \u001b[0;34m\u001b[0m\u001b[0m\n\u001b[0;32m----> 6\u001b[0;31m \u001b[0mresult\u001b[0m \u001b[0;34m=\u001b[0m \u001b[0msimulator\u001b[0m\u001b[0;34m.\u001b[0m\u001b[0msimulate\u001b[0m\u001b[0;34m(\u001b[0m\u001b[0mcircuit\u001b[0m\u001b[0;34m,\u001b[0m \u001b[0minitial_state\u001b[0m\u001b[0;34m=\u001b[0m\u001b[0;34m[\u001b[0m\u001b[0;36m1\u001b[0m\u001b[0;34m,\u001b[0m\u001b[0;36m1\u001b[0m\u001b[0;34m,\u001b[0m\u001b[0;36m0\u001b[0m\u001b[0;34m,\u001b[0m\u001b[0;36m0\u001b[0m\u001b[0;34m,\u001b[0m\u001b[0;36m0\u001b[0m\u001b[0;34m,\u001b[0m\u001b[0;36m0\u001b[0m\u001b[0;34m]\u001b[0m\u001b[0;34m)\u001b[0m\u001b[0;34m\u001b[0m\u001b[0;34m\u001b[0m\u001b[0m\n\u001b[0m\u001b[1;32m      7\u001b[0m \u001b[0mprint\u001b[0m\u001b[0;34m(\u001b[0m\u001b[0mresult\u001b[0m\u001b[0;34m.\u001b[0m\u001b[0mmeasurements\u001b[0m\u001b[0;34m[\u001b[0m\u001b[0;34m'result'\u001b[0m\u001b[0;34m]\u001b[0m\u001b[0;34m)\u001b[0m\u001b[0;34m\u001b[0m\u001b[0;34m\u001b[0m\u001b[0m\n",
            "\u001b[0;32m/usr/local/lib/python3.11/dist-packages/cirq/sim/simulator.py\u001b[0m in \u001b[0;36msimulate\u001b[0;34m(self, program, param_resolver, qubit_order, initial_state)\u001b[0m\n\u001b[1;32m    494\u001b[0m             \u001b[0mSimulationTrialResults\u001b[0m \u001b[0;32mfor\u001b[0m \u001b[0mthe\u001b[0m \u001b[0msimulation\u001b[0m\u001b[0;34m.\u001b[0m \u001b[0mIncludes\u001b[0m \u001b[0mthe\u001b[0m \u001b[0mfinal\u001b[0m \u001b[0mstate\u001b[0m\u001b[0;34m.\u001b[0m\u001b[0;34m\u001b[0m\u001b[0;34m\u001b[0m\u001b[0m\n\u001b[1;32m    495\u001b[0m         \"\"\"\n\u001b[0;32m--> 496\u001b[0;31m         return self.simulate_sweep(\n\u001b[0m\u001b[1;32m    497\u001b[0m             \u001b[0mprogram\u001b[0m\u001b[0;34m,\u001b[0m \u001b[0mstudy\u001b[0m\u001b[0;34m.\u001b[0m\u001b[0mParamResolver\u001b[0m\u001b[0;34m(\u001b[0m\u001b[0mparam_resolver\u001b[0m\u001b[0;34m)\u001b[0m\u001b[0;34m,\u001b[0m \u001b[0mqubit_order\u001b[0m\u001b[0;34m,\u001b[0m \u001b[0minitial_state\u001b[0m\u001b[0;34m\u001b[0m\u001b[0;34m\u001b[0m\u001b[0m\n\u001b[1;32m    498\u001b[0m         )[0]\n",
            "\u001b[0;32m/usr/local/lib/python3.11/dist-packages/cirq/sim/simulator.py\u001b[0m in \u001b[0;36msimulate_sweep\u001b[0;34m(self, program, params, qubit_order, initial_state)\u001b[0m\n\u001b[1;32m    509\u001b[0m         \u001b[0mPrefer\u001b[0m \u001b[0moverriding\u001b[0m\u001b[0;31m \u001b[0m\u001b[0;31m`\u001b[0m\u001b[0msimulate_sweep_iter\u001b[0m\u001b[0;31m`\u001b[0m\u001b[0;34m.\u001b[0m\u001b[0;34m\u001b[0m\u001b[0;34m\u001b[0m\u001b[0m\n\u001b[1;32m    510\u001b[0m         \"\"\"\n\u001b[0;32m--> 511\u001b[0;31m         \u001b[0;32mreturn\u001b[0m \u001b[0mlist\u001b[0m\u001b[0;34m(\u001b[0m\u001b[0mself\u001b[0m\u001b[0;34m.\u001b[0m\u001b[0msimulate_sweep_iter\u001b[0m\u001b[0;34m(\u001b[0m\u001b[0mprogram\u001b[0m\u001b[0;34m,\u001b[0m \u001b[0mparams\u001b[0m\u001b[0;34m,\u001b[0m \u001b[0mqubit_order\u001b[0m\u001b[0;34m,\u001b[0m \u001b[0minitial_state\u001b[0m\u001b[0;34m)\u001b[0m\u001b[0;34m)\u001b[0m\u001b[0;34m\u001b[0m\u001b[0;34m\u001b[0m\u001b[0m\n\u001b[0m\u001b[1;32m    512\u001b[0m \u001b[0;34m\u001b[0m\u001b[0m\n\u001b[1;32m    513\u001b[0m     def _simulate_sweep_to_iter(\n",
            "\u001b[0;32m/usr/local/lib/python3.11/dist-packages/cirq/sim/simulator_base.py\u001b[0m in \u001b[0;36msimulate_sweep_iter\u001b[0;34m(self, program, params, qubit_order, initial_state)\u001b[0m\n\u001b[1;32m    321\u001b[0m         \u001b[0msim_state\u001b[0m \u001b[0;34m=\u001b[0m \u001b[0mself\u001b[0m\u001b[0;34m.\u001b[0m\u001b[0m_create_simulation_state\u001b[0m\u001b[0;34m(\u001b[0m\u001b[0minitial_state\u001b[0m\u001b[0;34m,\u001b[0m \u001b[0mqubits\u001b[0m\u001b[0;34m)\u001b[0m\u001b[0;34m\u001b[0m\u001b[0;34m\u001b[0m\u001b[0m\n\u001b[1;32m    322\u001b[0m         prefix, suffix = (\n\u001b[0;32m--> 323\u001b[0;31m             \u001b[0msplit_into_matching_protocol_then_general\u001b[0m\u001b[0;34m(\u001b[0m\u001b[0mprogram\u001b[0m\u001b[0;34m,\u001b[0m \u001b[0msweep_prefixable\u001b[0m\u001b[0;34m)\u001b[0m\u001b[0;34m\u001b[0m\u001b[0;34m\u001b[0m\u001b[0m\n\u001b[0m\u001b[1;32m    324\u001b[0m             \u001b[0;32mif\u001b[0m \u001b[0mself\u001b[0m\u001b[0;34m.\u001b[0m\u001b[0m_can_be_in_run_prefix\u001b[0m\u001b[0;34m(\u001b[0m\u001b[0mself\u001b[0m\u001b[0;34m.\u001b[0m\u001b[0mnoise\u001b[0m\u001b[0;34m)\u001b[0m\u001b[0;34m\u001b[0m\u001b[0;34m\u001b[0m\u001b[0m\n\u001b[1;32m    325\u001b[0m             \u001b[0;32melse\u001b[0m \u001b[0;34m(\u001b[0m\u001b[0mprogram\u001b[0m\u001b[0;34m[\u001b[0m\u001b[0;36m0\u001b[0m\u001b[0;34m:\u001b[0m\u001b[0;36m0\u001b[0m\u001b[0;34m]\u001b[0m\u001b[0;34m,\u001b[0m \u001b[0mprogram\u001b[0m\u001b[0;34m)\u001b[0m\u001b[0;34m\u001b[0m\u001b[0;34m\u001b[0m\u001b[0m\n",
            "\u001b[0;32m/usr/local/lib/python3.11/dist-packages/cirq/sim/simulator.py\u001b[0m in \u001b[0;36msplit_into_matching_protocol_then_general\u001b[0;34m(circuit, predicate)\u001b[0m\n\u001b[1;32m    984\u001b[0m         \u001b[0;32mfor\u001b[0m \u001b[0mop\u001b[0m \u001b[0;32min\u001b[0m \u001b[0mmoment\u001b[0m\u001b[0;34m:\u001b[0m\u001b[0;34m\u001b[0m\u001b[0;34m\u001b[0m\u001b[0m\n\u001b[1;32m    985\u001b[0m             \u001b[0mqs\u001b[0m \u001b[0;34m=\u001b[0m \u001b[0mset\u001b[0m\u001b[0;34m(\u001b[0m\u001b[0mop\u001b[0m\u001b[0;34m.\u001b[0m\u001b[0mqubits\u001b[0m\u001b[0;34m)\u001b[0m\u001b[0;34m\u001b[0m\u001b[0;34m\u001b[0m\u001b[0m\n\u001b[0;32m--> 986\u001b[0;31m             \u001b[0;32mif\u001b[0m \u001b[0;32mnot\u001b[0m \u001b[0mpredicate\u001b[0m\u001b[0;34m(\u001b[0m\u001b[0mop\u001b[0m\u001b[0;34m)\u001b[0m \u001b[0;32mor\u001b[0m \u001b[0;32mnot\u001b[0m \u001b[0mqs\u001b[0m\u001b[0;34m.\u001b[0m\u001b[0misdisjoint\u001b[0m\u001b[0;34m(\u001b[0m\u001b[0mblocked_qubits\u001b[0m\u001b[0;34m)\u001b[0m\u001b[0;34m:\u001b[0m\u001b[0;34m\u001b[0m\u001b[0;34m\u001b[0m\u001b[0m\n\u001b[0m\u001b[1;32m    987\u001b[0m                 \u001b[0mblocked_qubits\u001b[0m \u001b[0;34m|=\u001b[0m \u001b[0mqs\u001b[0m\u001b[0;34m\u001b[0m\u001b[0;34m\u001b[0m\u001b[0m\n\u001b[1;32m    988\u001b[0m \u001b[0;34m\u001b[0m\u001b[0m\n",
            "\u001b[0;32m/usr/local/lib/python3.11/dist-packages/cirq/sim/simulator_base.py\u001b[0m in \u001b[0;36msweep_prefixable\u001b[0;34m(op)\u001b[0m\n\u001b[1;32m    315\u001b[0m \u001b[0;34m\u001b[0m\u001b[0m\n\u001b[1;32m    316\u001b[0m         \u001b[0;32mdef\u001b[0m \u001b[0msweep_prefixable\u001b[0m\u001b[0;34m(\u001b[0m\u001b[0mop\u001b[0m\u001b[0;34m:\u001b[0m \u001b[0;34m'cirq.Operation'\u001b[0m\u001b[0;34m)\u001b[0m\u001b[0;34m:\u001b[0m\u001b[0;34m\u001b[0m\u001b[0;34m\u001b[0m\u001b[0m\n\u001b[0;32m--> 317\u001b[0;31m             \u001b[0;32mreturn\u001b[0m \u001b[0mself\u001b[0m\u001b[0;34m.\u001b[0m\u001b[0m_can_be_in_run_prefix\u001b[0m\u001b[0;34m(\u001b[0m\u001b[0mop\u001b[0m\u001b[0;34m)\u001b[0m \u001b[0;32mand\u001b[0m \u001b[0;32mnot\u001b[0m \u001b[0mprotocols\u001b[0m\u001b[0;34m.\u001b[0m\u001b[0mis_parameterized\u001b[0m\u001b[0;34m(\u001b[0m\u001b[0mop\u001b[0m\u001b[0;34m)\u001b[0m\u001b[0;34m\u001b[0m\u001b[0;34m\u001b[0m\u001b[0m\n\u001b[0m\u001b[1;32m    318\u001b[0m \u001b[0;34m\u001b[0m\u001b[0m\n\u001b[1;32m    319\u001b[0m         \u001b[0mqubits\u001b[0m \u001b[0;34m=\u001b[0m \u001b[0mops\u001b[0m\u001b[0;34m.\u001b[0m\u001b[0mQubitOrder\u001b[0m\u001b[0;34m.\u001b[0m\u001b[0mas_qubit_order\u001b[0m\u001b[0;34m(\u001b[0m\u001b[0mqubit_order\u001b[0m\u001b[0;34m)\u001b[0m\u001b[0;34m.\u001b[0m\u001b[0morder_for\u001b[0m\u001b[0;34m(\u001b[0m\u001b[0mprogram\u001b[0m\u001b[0;34m.\u001b[0m\u001b[0mall_qubits\u001b[0m\u001b[0;34m(\u001b[0m\u001b[0;34m)\u001b[0m\u001b[0;34m)\u001b[0m\u001b[0;34m\u001b[0m\u001b[0;34m\u001b[0m\u001b[0m\n",
            "\u001b[0;32m/usr/local/lib/python3.11/dist-packages/cirq/sim/simulator_base.py\u001b[0m in \u001b[0;36m_can_be_in_run_prefix\u001b[0;34m(self, val)\u001b[0m\n\u001b[1;32m    169\u001b[0m             \u001b[0mA\u001b[0m \u001b[0mboolean\u001b[0m \u001b[0mrepresenting\u001b[0m \u001b[0mwhether\u001b[0m \u001b[0mthe\u001b[0m \u001b[0mvalue\u001b[0m \u001b[0mcan\u001b[0m \u001b[0mbe\u001b[0m \u001b[0madded\u001b[0m \u001b[0mto\u001b[0m \u001b[0mthe\u001b[0m\u001b[0;34m\u001b[0m\u001b[0;34m\u001b[0m\u001b[0m\n\u001b[1;32m    170\u001b[0m             `_run` prefix.\"\"\"\n\u001b[0;32m--> 171\u001b[0;31m         \u001b[0;32mreturn\u001b[0m \u001b[0mprotocols\u001b[0m\u001b[0;34m.\u001b[0m\u001b[0mhas_unitary\u001b[0m\u001b[0;34m(\u001b[0m\u001b[0mval\u001b[0m\u001b[0;34m)\u001b[0m\u001b[0;34m\u001b[0m\u001b[0;34m\u001b[0m\u001b[0m\n\u001b[0m\u001b[1;32m    172\u001b[0m \u001b[0;34m\u001b[0m\u001b[0m\n\u001b[1;32m    173\u001b[0m     def _base_iterator(\n",
            "\u001b[0;32m/usr/local/lib/python3.11/dist-packages/cirq/protocols/has_unitary_protocol.py\u001b[0m in \u001b[0;36mhas_unitary\u001b[0;34m(val, allow_decompose)\u001b[0m\n\u001b[1;32m    101\u001b[0m         \u001b[0mstrats\u001b[0m\u001b[0;34m.\u001b[0m\u001b[0mremove\u001b[0m\u001b[0;34m(\u001b[0m\u001b[0m_strat_has_unitary_from_decompose\u001b[0m\u001b[0;34m)\u001b[0m\u001b[0;34m\u001b[0m\u001b[0;34m\u001b[0m\u001b[0m\n\u001b[1;32m    102\u001b[0m     \u001b[0;32mfor\u001b[0m \u001b[0mstrat\u001b[0m \u001b[0;32min\u001b[0m \u001b[0mstrats\u001b[0m\u001b[0;34m:\u001b[0m\u001b[0;34m\u001b[0m\u001b[0;34m\u001b[0m\u001b[0m\n\u001b[0;32m--> 103\u001b[0;31m         \u001b[0mresult\u001b[0m \u001b[0;34m=\u001b[0m \u001b[0mstrat\u001b[0m\u001b[0;34m(\u001b[0m\u001b[0mval\u001b[0m\u001b[0;34m)\u001b[0m\u001b[0;34m\u001b[0m\u001b[0;34m\u001b[0m\u001b[0m\n\u001b[0m\u001b[1;32m    104\u001b[0m         \u001b[0;32mif\u001b[0m \u001b[0mresult\u001b[0m \u001b[0;32mis\u001b[0m \u001b[0;32mnot\u001b[0m \u001b[0;32mNone\u001b[0m\u001b[0;34m:\u001b[0m\u001b[0;34m\u001b[0m\u001b[0;34m\u001b[0m\u001b[0m\n\u001b[1;32m    105\u001b[0m             \u001b[0;32mreturn\u001b[0m \u001b[0mresult\u001b[0m\u001b[0;34m\u001b[0m\u001b[0;34m\u001b[0m\u001b[0m\n",
            "\u001b[0;32m/usr/local/lib/python3.11/dist-packages/cirq/protocols/has_unitary_protocol.py\u001b[0m in \u001b[0;36m_strat_has_unitary_from_unitary\u001b[0;34m(val)\u001b[0m\n\u001b[1;32m    124\u001b[0m     \u001b[0;32mif\u001b[0m \u001b[0mgetter\u001b[0m \u001b[0;32mis\u001b[0m \u001b[0;32mNone\u001b[0m\u001b[0;34m:\u001b[0m\u001b[0;34m\u001b[0m\u001b[0;34m\u001b[0m\u001b[0m\n\u001b[1;32m    125\u001b[0m         \u001b[0;32mreturn\u001b[0m \u001b[0;32mNone\u001b[0m\u001b[0;34m\u001b[0m\u001b[0;34m\u001b[0m\u001b[0m\n\u001b[0;32m--> 126\u001b[0;31m     \u001b[0mresult\u001b[0m \u001b[0;34m=\u001b[0m \u001b[0mgetter\u001b[0m\u001b[0;34m(\u001b[0m\u001b[0;34m)\u001b[0m\u001b[0;34m\u001b[0m\u001b[0;34m\u001b[0m\u001b[0m\n\u001b[0m\u001b[1;32m    127\u001b[0m     \u001b[0;32mreturn\u001b[0m \u001b[0mresult\u001b[0m \u001b[0;32mis\u001b[0m \u001b[0;32mnot\u001b[0m \u001b[0mNotImplemented\u001b[0m \u001b[0;32mand\u001b[0m \u001b[0mresult\u001b[0m \u001b[0;32mis\u001b[0m \u001b[0;32mnot\u001b[0m \u001b[0;32mNone\u001b[0m\u001b[0;34m\u001b[0m\u001b[0;34m\u001b[0m\u001b[0m\n\u001b[1;32m    128\u001b[0m \u001b[0;34m\u001b[0m\u001b[0m\n",
            "\u001b[0;32m/usr/local/lib/python3.11/dist-packages/cirq/ops/gate_operation.py\u001b[0m in \u001b[0;36m_unitary_\u001b[0;34m(self)\u001b[0m\n\u001b[1;32m    194\u001b[0m         \u001b[0mgetter\u001b[0m \u001b[0;34m=\u001b[0m \u001b[0mgetattr\u001b[0m\u001b[0;34m(\u001b[0m\u001b[0mself\u001b[0m\u001b[0;34m.\u001b[0m\u001b[0mgate\u001b[0m\u001b[0;34m,\u001b[0m \u001b[0;34m'_unitary_'\u001b[0m\u001b[0;34m,\u001b[0m \u001b[0;32mNone\u001b[0m\u001b[0;34m)\u001b[0m\u001b[0;34m\u001b[0m\u001b[0;34m\u001b[0m\u001b[0m\n\u001b[1;32m    195\u001b[0m         \u001b[0;32mif\u001b[0m \u001b[0mgetter\u001b[0m \u001b[0;32mis\u001b[0m \u001b[0;32mnot\u001b[0m \u001b[0;32mNone\u001b[0m\u001b[0;34m:\u001b[0m\u001b[0;34m\u001b[0m\u001b[0;34m\u001b[0m\u001b[0m\n\u001b[0;32m--> 196\u001b[0;31m             \u001b[0;32mreturn\u001b[0m \u001b[0mgetter\u001b[0m\u001b[0;34m(\u001b[0m\u001b[0;34m)\u001b[0m\u001b[0;34m\u001b[0m\u001b[0;34m\u001b[0m\u001b[0m\n\u001b[0m\u001b[1;32m    197\u001b[0m         \u001b[0;32mreturn\u001b[0m \u001b[0mNotImplemented\u001b[0m\u001b[0;34m\u001b[0m\u001b[0;34m\u001b[0m\u001b[0m\n\u001b[1;32m    198\u001b[0m \u001b[0;34m\u001b[0m\u001b[0m\n",
            "\u001b[0;32m/usr/local/lib/python3.11/dist-packages/qualtran/cirq_interop/_bloq_to_cirq.py\u001b[0m in \u001b[0;36m_unitary_\u001b[0;34m(self)\u001b[0m\n\u001b[1;32m    149\u001b[0m                 \u001b[0;32mreturn\u001b[0m \u001b[0mNotImplemented\u001b[0m\u001b[0;34m\u001b[0m\u001b[0;34m\u001b[0m\u001b[0m\n\u001b[1;32m    150\u001b[0m             \u001b[0;32mexcept\u001b[0m \u001b[0;34m(\u001b[0m\u001b[0mDecomposeNotImplementedError\u001b[0m\u001b[0;34m,\u001b[0m \u001b[0mDecomposeTypeError\u001b[0m\u001b[0;34m)\u001b[0m\u001b[0;34m:\u001b[0m\u001b[0;34m\u001b[0m\u001b[0;34m\u001b[0m\u001b[0m\n\u001b[0;32m--> 151\u001b[0;31m                 \u001b[0mtensor\u001b[0m \u001b[0;34m=\u001b[0m \u001b[0mself\u001b[0m\u001b[0;34m.\u001b[0m\u001b[0mbloq\u001b[0m\u001b[0;34m.\u001b[0m\u001b[0mtensor_contract\u001b[0m\u001b[0;34m(\u001b[0m\u001b[0;34m)\u001b[0m\u001b[0;34m\u001b[0m\u001b[0;34m\u001b[0m\u001b[0m\n\u001b[0m\u001b[1;32m    152\u001b[0m                 \u001b[0;32mif\u001b[0m \u001b[0mtensor\u001b[0m\u001b[0;34m.\u001b[0m\u001b[0mndim\u001b[0m \u001b[0;34m!=\u001b[0m \u001b[0;36m2\u001b[0m\u001b[0;34m:\u001b[0m\u001b[0;34m\u001b[0m\u001b[0;34m\u001b[0m\u001b[0m\n\u001b[1;32m    153\u001b[0m                     \u001b[0;32mreturn\u001b[0m \u001b[0mNotImplemented\u001b[0m\u001b[0;34m\u001b[0m\u001b[0;34m\u001b[0m\u001b[0m\n",
            "\u001b[0;32m/usr/local/lib/python3.11/dist-packages/qualtran/_infra/bloq.py\u001b[0m in \u001b[0;36mtensor_contract\u001b[0;34m(self)\u001b[0m\n\u001b[1;32m    241\u001b[0m         \u001b[0;32mfrom\u001b[0m \u001b[0mqualtran\u001b[0m\u001b[0;34m.\u001b[0m\u001b[0msimulation\u001b[0m\u001b[0;34m.\u001b[0m\u001b[0mtensor\u001b[0m \u001b[0;32mimport\u001b[0m \u001b[0mbloq_to_dense\u001b[0m\u001b[0;34m\u001b[0m\u001b[0;34m\u001b[0m\u001b[0m\n\u001b[1;32m    242\u001b[0m \u001b[0;34m\u001b[0m\u001b[0m\n\u001b[0;32m--> 243\u001b[0;31m         \u001b[0;32mreturn\u001b[0m \u001b[0mbloq_to_dense\u001b[0m\u001b[0;34m(\u001b[0m\u001b[0mself\u001b[0m\u001b[0;34m)\u001b[0m\u001b[0;34m\u001b[0m\u001b[0;34m\u001b[0m\u001b[0m\n\u001b[0m\u001b[1;32m    244\u001b[0m \u001b[0;34m\u001b[0m\u001b[0m\n\u001b[1;32m    245\u001b[0m     def my_tensors(\n",
            "\u001b[0;32m/usr/local/lib/python3.11/dist-packages/qualtran/simulation/tensor/_dense.py\u001b[0m in \u001b[0;36mbloq_to_dense\u001b[0;34m(bloq, full_flatten)\u001b[0m\n\u001b[1;32m    155\u001b[0m     \u001b[0mlogging\u001b[0m\u001b[0;34m.\u001b[0m\u001b[0minfo\u001b[0m\u001b[0;34m(\u001b[0m\u001b[0;34m\"bloq_to_dense() on %s\"\u001b[0m\u001b[0;34m,\u001b[0m \u001b[0mbloq\u001b[0m\u001b[0;34m)\u001b[0m\u001b[0;34m\u001b[0m\u001b[0;34m\u001b[0m\u001b[0m\n\u001b[1;32m    156\u001b[0m     \u001b[0mflat_cbloq\u001b[0m \u001b[0;34m=\u001b[0m \u001b[0mflatten_for_tensor_contraction\u001b[0m\u001b[0;34m(\u001b[0m\u001b[0mbloq\u001b[0m\u001b[0;34m,\u001b[0m \u001b[0mfull_flatten\u001b[0m\u001b[0;34m=\u001b[0m\u001b[0mfull_flatten\u001b[0m\u001b[0;34m)\u001b[0m\u001b[0;34m\u001b[0m\u001b[0;34m\u001b[0m\u001b[0m\n\u001b[0;32m--> 157\u001b[0;31m     \u001b[0mtn\u001b[0m \u001b[0;34m=\u001b[0m \u001b[0mcbloq_to_quimb\u001b[0m\u001b[0;34m(\u001b[0m\u001b[0mflat_cbloq\u001b[0m\u001b[0;34m)\u001b[0m\u001b[0;34m\u001b[0m\u001b[0;34m\u001b[0m\u001b[0m\n\u001b[0m\u001b[1;32m    158\u001b[0m     \u001b[0;32mreturn\u001b[0m \u001b[0mquimb_to_dense\u001b[0m\u001b[0;34m(\u001b[0m\u001b[0mtn\u001b[0m\u001b[0;34m,\u001b[0m \u001b[0mbloq\u001b[0m\u001b[0;34m.\u001b[0m\u001b[0msignature\u001b[0m\u001b[0;34m)\u001b[0m\u001b[0;34m\u001b[0m\u001b[0;34m\u001b[0m\u001b[0m\n",
            "\u001b[0;32m/usr/local/lib/python3.11/dist-packages/qualtran/simulation/tensor/_quimb.py\u001b[0m in \u001b[0;36mcbloq_to_quimb\u001b[0;34m(cbloq)\u001b[0m\n\u001b[1;32m     57\u001b[0m         \u001b[0mout_d\u001b[0m \u001b[0;34m=\u001b[0m \u001b[0m_cxns_to_cxn_dict\u001b[0m\u001b[0;34m(\u001b[0m\u001b[0mbloq\u001b[0m\u001b[0;34m.\u001b[0m\u001b[0msignature\u001b[0m\u001b[0;34m.\u001b[0m\u001b[0mrights\u001b[0m\u001b[0;34m(\u001b[0m\u001b[0;34m)\u001b[0m\u001b[0;34m,\u001b[0m \u001b[0msucc_cxns\u001b[0m\u001b[0;34m,\u001b[0m \u001b[0mget_me\u001b[0m\u001b[0;34m=\u001b[0m\u001b[0;32mlambda\u001b[0m \u001b[0mcxn\u001b[0m\u001b[0;34m:\u001b[0m \u001b[0mcxn\u001b[0m\u001b[0;34m.\u001b[0m\u001b[0mleft\u001b[0m\u001b[0;34m)\u001b[0m\u001b[0;34m\u001b[0m\u001b[0;34m\u001b[0m\u001b[0m\n\u001b[1;32m     58\u001b[0m \u001b[0;34m\u001b[0m\u001b[0m\n\u001b[0;32m---> 59\u001b[0;31m         \u001b[0;32mfor\u001b[0m \u001b[0mtensor\u001b[0m \u001b[0;32min\u001b[0m \u001b[0mbloq\u001b[0m\u001b[0;34m.\u001b[0m\u001b[0mmy_tensors\u001b[0m\u001b[0;34m(\u001b[0m\u001b[0minc_d\u001b[0m\u001b[0;34m,\u001b[0m \u001b[0mout_d\u001b[0m\u001b[0;34m)\u001b[0m\u001b[0;34m:\u001b[0m\u001b[0;34m\u001b[0m\u001b[0;34m\u001b[0m\u001b[0m\n\u001b[0m\u001b[1;32m     60\u001b[0m             \u001b[0mtn\u001b[0m\u001b[0;34m.\u001b[0m\u001b[0madd\u001b[0m\u001b[0;34m(\u001b[0m\u001b[0mtensor\u001b[0m\u001b[0;34m)\u001b[0m\u001b[0;34m\u001b[0m\u001b[0;34m\u001b[0m\u001b[0m\n\u001b[1;32m     61\u001b[0m \u001b[0;34m\u001b[0m\u001b[0m\n",
            "\u001b[0;32m/usr/local/lib/python3.11/dist-packages/qualtran/_infra/bloq.py\u001b[0m in \u001b[0;36mmy_tensors\u001b[0;34m(self, incoming, outgoing)\u001b[0m\n\u001b[1;32m    275\u001b[0m                 \u001b[0mright\u001b[0m \u001b[0mindices\u001b[0m \u001b[0;32mfor\u001b[0m \u001b[0mthe\u001b[0m \u001b[0mtensor\u001b[0m \u001b[0mnetwork\u001b[0m\u001b[0;34m.\u001b[0m\u001b[0;34m\u001b[0m\u001b[0;34m\u001b[0m\u001b[0m\n\u001b[1;32m    276\u001b[0m         \"\"\"\n\u001b[0;32m--> 277\u001b[0;31m         \u001b[0;32mraise\u001b[0m \u001b[0mNotImplementedError\u001b[0m\u001b[0;34m(\u001b[0m\u001b[0;34mf\"{self} does not support tensor simulation.\"\u001b[0m\u001b[0;34m)\u001b[0m\u001b[0;34m\u001b[0m\u001b[0;34m\u001b[0m\u001b[0m\n\u001b[0m\u001b[1;32m    278\u001b[0m \u001b[0;34m\u001b[0m\u001b[0m\n\u001b[1;32m    279\u001b[0m     def build_call_graph(\n",
            "\u001b[0;31mNotImplementedError\u001b[0m: ArcSin does not support tensor simulation."
          ]
        }
      ],
      "source": [
        "simulator = cirq.Simulator()\n",
        "circuit = cirq.Circuit()\n",
        "circuit.append(arcsin_cirq)\n",
        "circuit.append(cirq.measure(result_register, key='result'))\n",
        "\n",
        "result = simulator.simulate(circuit, initial_state=[1,1,0,0,0,0])\n",
        "print(result.measurements['result'])"
      ]
    },
    {
      "cell_type": "code",
      "execution_count": null,
      "metadata": {
        "colab": {
          "base_uri": "https://localhost:8080/"
        },
        "id": "xyhzyONkgSa9",
        "outputId": "4b23e0b1-d84c-403d-e839-e9182165754a"
      },
      "outputs": [
        {
          "data": {
            "text/plain": [
              "1.5375870979825563"
            ]
          },
          "execution_count": 105,
          "metadata": {},
          "output_type": "execute_result"
        }
      ],
      "source": [
        "np.arcsin(1.5/4)*4"
      ]
    },
    {
      "cell_type": "code",
      "execution_count": null,
      "metadata": {
        "colab": {
          "base_uri": "https://localhost:8080/"
        },
        "id": "8UaLjhXfhSVV",
        "outputId": "e1a8f969-f14b-40b1-8e25-0038280e5c94"
      },
      "outputs": [
        {
          "data": {
            "text/plain": [
              "0.75"
            ]
          },
          "execution_count": 95,
          "metadata": {},
          "output_type": "execute_result"
        }
      ],
      "source": [
        "6"
      ]
    },
    {
      "cell_type": "markdown",
      "metadata": {
        "id": "LSh-LMnFCYb1"
      },
      "source": [
        "# QROM + Inequality Test"
      ]
    },
    {
      "cell_type": "code",
      "execution_count": null,
      "metadata": {
        "id": "N6OXR6CHhRny"
      },
      "outputs": [],
      "source": []
    },
    {
      "cell_type": "markdown",
      "metadata": {
        "id": "_NZqInewLiIk"
      },
      "source": [
        "## Utils"
      ]
    },
    {
      "cell_type": "code",
      "execution_count": null,
      "metadata": {
        "id": "5p7aiK4aLlpb"
      },
      "outputs": [],
      "source": [
        "import math\n",
        "import cirq\n",
        "class Comparator:\n",
        "  def __init__(self, A, B):\n",
        "    \"\"\"\n",
        "        :param A: The quantum register holding the first number\n",
        "        :param B: The quantum register second number\n",
        "    \"\"\"\n",
        "    self.A = A\n",
        "    self.B = B\n",
        "    self.length = len(A)\n",
        "\n",
        "\n",
        "  def compare2(self, a0: cirq.NamedQubit, b0: cirq.NamedQubit, a1:cirq.NamedQubit, b1:cirq.NamedQubit, name: str) -> [cirq.Circuit, cirq.NamedQubit, cirq.NamedQubit]:\n",
        "    # Compare a pair of two bits\n",
        "    p = cirq.NamedQubit(\"ancilla_comp2_{}\".format(name))\n",
        "    compare2 = cirq.Circuit()\n",
        "    compare2.append(cirq.X(p))\n",
        "    compare2.append(cirq.CNOT(b1,a1), strategy=cirq.InsertStrategy.EARLIEST)\n",
        "    compare2.append(cirq.CNOT(b0,a0), strategy=cirq.InsertStrategy.EARLIEST)\n",
        "    # compare2.append(cirq.CSWAP(a1, a0, p), strategy=cirq.InsertStrategy.NEW_THEN_INLINE)\n",
        "    compare2.append(cirq.CCNOT(a1, a0, p), strategy=cirq.InsertStrategy.NEW_THEN_INLINE)\n",
        "    compare2.append(cirq.CCNOT(a1, p, a0), strategy=cirq.InsertStrategy.NEW_THEN_INLINE)\n",
        "    compare2.append(cirq.CCNOT(a1, a0, p), strategy=cirq.InsertStrategy.NEW_THEN_INLINE)\n",
        "\n",
        "    # compare2.append(cirq.CSWAP(a1, b1, b0), strategy=cirq.InsertStrategy.NEW_THEN_INLINE)\n",
        "    compare2.append(cirq.TOFFOLI(a1, b1, b0), strategy=cirq.InsertStrategy.NEW_THEN_INLINE)\n",
        "    compare2.append(cirq.TOFFOLI(a1, b0, b1), strategy=cirq.InsertStrategy.NEW_THEN_INLINE)\n",
        "    compare2.append(cirq.TOFFOLI(a1, b1, b0), strategy=cirq.InsertStrategy.NEW_THEN_INLINE)\n",
        "\n",
        "    compare2.append(cirq.CNOT(b0,a0), strategy=cirq.InsertStrategy.NEW_THEN_INLINE)\n",
        "\n",
        "    return compare2, a0, b0\n",
        "\n",
        "\n",
        "  def finalizer(self, a: cirq.NamedQubit, b: cirq.NamedQubit) -> cirq.Circuit:\n",
        "    # verify b>a\n",
        "\n",
        "    self.anc1 = cirq.NamedQubit(\"ancilla_fin\")\n",
        "\n",
        "    final_cir = cirq.Circuit()\n",
        "    final_cir.append(cirq.X(a), strategy=cirq.InsertStrategy.NEW_THEN_INLINE)\n",
        "    final_cir.append(cirq.TOFFOLI(a,b, self.anc1), strategy=cirq.InsertStrategy.NEW_THEN_INLINE)\n",
        "    final_cir.append(cirq.X(a), strategy=cirq.InsertStrategy.NEW_THEN_INLINE)\n",
        "\n",
        "    return final_cir\n",
        "\n",
        "  def construct_circuit(self,) -> cirq.Circuit:\n",
        "    self.circuit = cirq.Circuit()\n",
        "    two_bitwise_compare = {}\n",
        "    qubits_out_acc_layer = {}\n",
        "    for j in range(0, int(math.log2(self.length))):\n",
        "      two_bitwise_compare[j] = []\n",
        "      qubits_out_acc_layer[j] = []\n",
        "    # first layer\n",
        "    for i in range(0, self.length//2):\n",
        "      cir, a_out, b_out = self.compare2(self.A[2*i], self.B[2*i], self.A[2*i+1], self.B[2*i+1], name=\"0_\"+str(i))\n",
        "      two_bitwise_compare[0].append(cir)\n",
        "      qubits_out_acc_layer[0].append([a_out, b_out])\n",
        "    # later layer\n",
        "    for j in range(1, int(math.log2(self.length))):\n",
        "      for i in range(len(qubits_out_acc_layer[j-1])//2):\n",
        "        cir, a_out, b_out = self.compare2(*qubits_out_acc_layer[j-1][2*i], *qubits_out_acc_layer[j-1][2*i+1], name=str(j)+\"_\"+str(i))\n",
        "        two_bitwise_compare[j].append(cir)\n",
        "        qubits_out_acc_layer[j].append([a_out, b_out])\n",
        "\n",
        "\n",
        "    final_compare = self.finalizer(*qubits_out_acc_layer[int(math.log2(self.length))-1][0])\n",
        "    for j in range(0, int(math.log2(self.length))):\n",
        "      self.circuit.append((two_bitwise_compare[j]), strategy=cirq.InsertStrategy.NEW_THEN_INLINE)\n",
        "    self.circuit.append(final_compare, strategy=cirq.InsertStrategy.NEW_THEN_INLINE)\n",
        "    return self.circuit"
      ]
    },
    {
      "cell_type": "code",
      "execution_count": null,
      "metadata": {
        "id": "rz0m7R7gLrfJ"
      },
      "outputs": [],
      "source": [
        "class StatePrepIneq:\n",
        "  \"\"\"\n",
        "  Implement inequality test based method in https://arxiv.org/abs/1807.03206 with regular ampltitude amplification technqiues\n",
        "\n",
        "  Attributes:\n",
        "    -----------\n",
        "    num_out_qubits : int\n",
        "        Number of qubits for output register\n",
        "\n",
        "    num_data_qubits : int\n",
        "        Number of qubits to estimate the output data from the oracle\n",
        "\n",
        "    black_box: cirq.Circuit\n",
        "        The oracle to generate the output data.\n",
        "\n",
        "    input_data : List[float]\n",
        "        (Optional) List of amplitudes when black_box is None\n",
        "\n",
        "  Methods:\n",
        "    --------\n",
        "    good_state_preparation() -> cirq.Circuit\n",
        "        Generates 'good state' cirq.Circuit.\n",
        "\n",
        "    amplitude_amplification(num_iteration) -> cirq.Circuit\n",
        "        Generates the amplitude amplification circuit based on the 'good' circuit.\n",
        "\n",
        "    construct_circuit() -> None\n",
        "        Combine good_state_preparation and amplitude_amplification circuit\n",
        "\n",
        "    get_output() -> List[float]\n",
        "        Simulate results and get ampltiudes of the output state\n",
        "  \"\"\"\n",
        "  def __init__(self, num_out_qubits: int, num_data_qubits: int, input_data: list =None, qrom: cirq.Circuit = None)-> None:\n",
        "    \"\"\"\n",
        "    :param num_out_qubits: number of qubits for output register\n",
        "    :param num_data_qubits: number of qubits to estimate the output data from the oracle\n",
        "    :param input_data: if 'black_box' is None, user can direct input the list of amplitudes as 'input_data'\n",
        "    :param qrom: the oracle to generate the output data.\n",
        "    \"\"\"\n",
        "    self.num_out_qubits = num_out_qubits\n",
        "    self.num_data_qubits = num_data_qubits\n",
        "    self.input_data = input_data\n",
        "\n",
        "    self.out = [cirq.NamedQubit('out' + str(i)) for i in range(num_out_qubits)]\n",
        "    self.data = [cirq.NamedQubit('data' + str(i)) for i in range(num_data_qubits)]\n",
        "    self.ref = [cirq.NamedQubit('ref' + str(i)) for i in range(num_data_qubits)]\n",
        "    self.flag = cirq.NamedQubit('flag')\n",
        "    if qrom:\n",
        "        # if there is input blackbox, directly apply the oracle on out and data registers\n",
        "        self.blackbox = blackbox(self.out, self.data, qrom=qrom)\n",
        "\n",
        "  def good_state_preparation(self,) -> cirq.Circuit:\n",
        "    \"\"\"\n",
        "    Generate the good state at |0>_ref|0>-flag.\n",
        "    Implement Eq.(7) in the paper\n",
        "    \"\"\"\n",
        "    circuit = cirq.Circuit()\n",
        "\n",
        "    # intializer\n",
        "    for i in range(self.num_out_qubits):\n",
        "      circuit.append(cirq.H(self.out[i]))\n",
        "    if self.blackbox is None:\n",
        "      # if there is no input blackbox, apply simple basis encoding for input_data\n",
        "      def ai_to_gate(ai):\n",
        "        circ = cirq.Circuit()\n",
        "        for i, val in enumerate(ai):\n",
        "          if val == '1':\n",
        "            circ.append(cirq.X(self.data[self.num_data_qubits-1-i]))\n",
        "        return circ\n",
        "\n",
        "      def oracle(A, d, n):\n",
        "          \"\"\" Loads the data array onto the circuit, controlled by register out as index. \"\"\"\n",
        "          oracle = cirq.Circuit()\n",
        "          for i in range(2**d):\n",
        "              circ_ai = ai_to_gate(A[i])\n",
        "              circ_ai_to_op = cirq.CircuitOperation(circ_ai.freeze())\n",
        "              ai_encode_gate = circ_ai_to_op.controlled_by(*self.out, control_values=[int(k) for k in format(i, \"b\").zfill(self.num_out_qubits)])\n",
        "              oracle.append(ai_encode_gate)\n",
        "          return oracle\n",
        "      # Apply blackbox\n",
        "      self.blackbox = oracle(self.input_data, self.num_out_qubits, self.num_data_qubits)\n",
        "      circuit.append(self.blackbox, strategy=cirq.InsertStrategy.NEW_THEN_INLINE)\n",
        "    else:\n",
        "      circuit.append(self.blackbox, strategy=cirq.InsertStrategy.NEW_THEN_INLINE)\n",
        "\n",
        "    # initialize ref\n",
        "    for i in range(self.num_data_qubits):\n",
        "      circuit.append(cirq.H(self.ref[i]))\n",
        "\n",
        "    # compare ref to data\n",
        "    comparator = Comparator(self.ref, self.data)\n",
        "    compare_circ = comparator.construct_circuit()\n",
        "\n",
        "    circuit.append(compare_circ, strategy=cirq.InsertStrategy.NEW_THEN_INLINE)\n",
        "    circuit.append(cirq.X(comparator.anc1))\n",
        "    circuit.append(cirq.CNOT(comparator.anc1, self.flag))\n",
        "    circuit.append(cirq.X(comparator.anc1))\n",
        "\n",
        "    # uncompute comparator\n",
        "    inv_compare = cirq.inverse(compare_circ)\n",
        "    circuit.append(inv_compare, strategy=cirq.InsertStrategy.NEW_THEN_INLINE)\n",
        "\n",
        "    # unprepare superposition from ref\n",
        "    for i in range(self.num_data_qubits):\n",
        "      circuit.append(cirq.H(self.ref[i]))\n",
        "\n",
        "    return circuit\n",
        "\n",
        "  def amplitude_amplification(self, num_iteration: int) -> cirq.Circuit:\n",
        "\n",
        "    #define components\n",
        "    def phase_oracle() -> cirq.Circuit:\n",
        "      \"\"\"\n",
        "      Negate the amplitude with |0>_ref |0>_flag\n",
        "      \"\"\"\n",
        "      circ = cirq.Circuit()\n",
        "      circ.append(cirq.X(self.flag))\n",
        "      circ.append(cirq.H(self.flag)) # on flag\n",
        "      circ.append(cirq.XPowGate().controlled(self.num_data_qubits, control_values=[0]*self.num_data_qubits).on(*self.ref, self.flag))\n",
        "      circ.append(cirq.H(self.flag)) # on flag\n",
        "      circ.append(cirq.X(self.flag))\n",
        "      return circ\n",
        "\n",
        "    def zero_reflection(qubits: list) -> cirq.Circuit:\n",
        "      \"\"\"\n",
        "      Reflect zero state.\n",
        "      Implement I - 2|0><0| over all qubits\n",
        "      \"\"\"\n",
        "      circ = cirq.Circuit()\n",
        "      for i in range(len(qubits)):\n",
        "        circ.append(cirq.X(qubits[i]))\n",
        "\n",
        "      circ.append(cirq.H(qubits[-1])) # on flag\n",
        "      circ.append(cirq.XPowGate().controlled(self.num_out_qubits+2*self.num_data_qubits).on(*qubits))\n",
        "      circ.append(cirq.H(qubits[-1])) # on flag\n",
        "\n",
        "      for i in range(len(qubits)):\n",
        "        circ.append(cirq.X(qubits[i]))\n",
        "\n",
        "      return circ\n",
        "\n",
        "    circ = cirq.Circuit()\n",
        "    oracle = phase_oracle()\n",
        "    good_state_preparation = self.good_state_preparation()\n",
        "    reflection = zero_reflection(self.out+self.data+self.ref+[self.flag])\n",
        "\n",
        "\n",
        "    circ.append(good_state_preparation, strategy=cirq.InsertStrategy.NEW_THEN_INLINE)\n",
        "    for i in range(num_iteration):\n",
        "      circ.append(oracle, strategy=cirq.InsertStrategy.NEW_THEN_INLINE)\n",
        "      circ.append(cirq.inverse(good_state_preparation), strategy=cirq.InsertStrategy.NEW_THEN_INLINE)\n",
        "      circ.append(reflection, strategy=cirq.InsertStrategy.NEW_THEN_INLINE)\n",
        "      circ.append(good_state_preparation, strategy=cirq.InsertStrategy.NEW_THEN_INLINE)\n",
        "\n",
        "    return circ\n",
        "\n",
        "  def construct_circuit(self,num_iteration: int) -> None:\n",
        "    self.output_circuit = self.amplitude_amplification(num_iteration=num_iteration) # math.floor(np.sqrt(2**self.num_data_qubits))\n",
        "    # uncompute data\n",
        "    self.output_circuit.append(cirq.inverse(self.blackbox), strategy=cirq.InsertStrategy.NEW_THEN_INLINE)\n",
        "\n",
        "  def get_output(self) -> list:\n",
        "    # measurement\n",
        "    self.output_circuit.append(cirq.measure(*(self.out+self.ref+[self.flag]), key=\"result\"))\n",
        "    s = cirq.Simulator()\n",
        "    samples = s.run(self.output_circuit, repetitions=1000)\n",
        "    samples = cirq.ResultDict(records={'result': samples.records['result']})\n",
        "    results = samples.histogram(key=\"result\")\n",
        "    care_results = []\n",
        "    for i in range(2**self.num_out_qubits):\n",
        "      binarized_i = format(i, \"b\").zfill(self.num_out_qubits)\n",
        "      binarized_i = binarized_i[::-1]\n",
        "      care_position = int(binarized_i+\"0\"*self.num_data_qubits+\"0\", 2)\n",
        "      care_results.append(results[care_position])\n",
        "\n",
        "    amplitude = np.sqrt(np.array(care_results)/(sum(care_results)))\n",
        "\n",
        "    return amplitude"
      ]
    },
    {
      "cell_type": "markdown",
      "metadata": {
        "id": "7OjALX3xLkFf"
      },
      "source": [
        "## Main"
      ]
    },
    {
      "cell_type": "code",
      "execution_count": null,
      "metadata": {
        "id": "HRSmcLNYCagU"
      },
      "outputs": [],
      "source": [
        "def generate_coeff(n: int, sigma: float) -> np.ndarray:\n",
        "  \"\"\"\n",
        "  Compute a vector of 2**n coefficients of gaussian function\n",
        "  \"\"\"\n",
        "\n",
        "  N = 2**n\n",
        "  x = np.arange(N)\n",
        "  x = (2 * x) / (N - 1) - 1\n",
        "  coeffs = np.exp(-(x**2/(2*sigma**2)))\n",
        "  return coeffs\n",
        "\n",
        "def blackbox(selection_register, target_register, qrom):\n",
        "  qrom_cirq = qrom.as_composite_bloq().to_cirq_circuit(\n",
        "    cirq_quregs= {'selection': selection_register, 'target0_':target_register}\n",
        "  )\n",
        "  return qrom_cirq"
      ]
    },
    {
      "cell_type": "code",
      "execution_count": null,
      "metadata": {
        "colab": {
          "base_uri": "https://localhost:8080/",
          "height": 447
        },
        "id": "ONuxDEcfEGLD",
        "outputId": "fde03b26-24ec-47d5-c391-0d64109c26cd"
      },
      "outputs": [
        {
          "data": {
            "text/plain": [
              "[<matplotlib.lines.Line2D at 0x7c6d2713b090>]"
            ]
          },
          "execution_count": 62,
          "metadata": {},
          "output_type": "execute_result"
        },
        {
          "data": {
            "image/png": "[encoded data removed]",
            "text/plain": [
              "<Figure size 640x480 with 1 Axes>"
            ]
          },
          "metadata": {},
          "output_type": "display_data"
        }
      ],
      "source": [
        "system_nqubits = 2\n",
        "data_nqubits = 2\n",
        "y = generate_coeff(system_nqubits, sigma = 1)\n",
        "plt.plot(np.arange(0,2**system_nqubits), y/np.linalg.norm(y))"
      ]
    },
    {
      "cell_type": "code",
      "execution_count": null,
      "metadata": {
        "id": "u-dZUJ5AKWPW"
      },
      "outputs": [],
      "source": [
        "y = (y*2**data_nqubits).astype(np.int8)\n",
        "qrom = QROM([y], selection_bitsizes=(system_nqubits,), target_bitsizes=(data_nqubits,))\n",
        "state_prep = StatePrepIneq(num_out_qubits=system_nqubits, num_data_qubits=data_nqubits, qrom=qrom)\n",
        "state_prep.construct_circuit(num_iteration = math.ceil((np.pi/4)*np.sqrt(2**system_nqubits)/np.linalg.norm(y)))\n",
        "\n",
        "amplitudes = state_prep.get_output()"
      ]
    },
    {
      "cell_type": "code",
      "execution_count": null,
      "metadata": {
        "colab": {
          "base_uri": "https://localhost:8080/",
          "height": 447
        },
        "id": "-0AJX4CeQCpR",
        "outputId": "10cedd1a-2e44-4cad-9d9a-d0013f094645"
      },
      "outputs": [
        {
          "data": {
            "text/plain": [
              "[<matplotlib.lines.Line2D at 0x7c6d26b2ff50>]"
            ]
          },
          "execution_count": 65,
          "metadata": {},
          "output_type": "execute_result"
        },
        {
          "data": {
            "image/png": "[encoded data removed]",
            "text/plain": [
              "<Figure size 640x480 with 1 Axes>"
            ]
          },
          "metadata": {},
          "output_type": "display_data"
        }
      ],
      "source": [
        "plt.plot(np.arange(0,2**system_nqubits), amplitudes)"
      ]
    },
    {
      "cell_type": "code",
      "execution_count": null,
      "metadata": {
        "id": "tGdkfYYtbI-f"
      },
      "outputs": [],
      "source": []
    },
    {
      "cell_type": "markdown",
      "metadata": {
        "id": "WryLKUTec6Rh"
      },
      "source": [
        "# QSVT"
      ]
    },
    {
      "cell_type": "code",
      "execution_count": null,
      "metadata": {
        "id": "600fZt7evK64"
      },
      "outputs": [],
      "source": [
        "###\n",
        "### General imports\n",
        "###\n",
        "\n",
        "import numpy                as np\n",
        "import numpy.linalg         as nla\n",
        "import scipy.linalg         as sla\n",
        "import scipy.special        as sfn\n",
        "\n",
        "import matplotlib.pyplot    as plt\n",
        "import matplotlib_inline    as mpli\n",
        "import sys                  as sys\n",
        "\n",
        "from IPython.display        import display, clear_output\n",
        "\n",
        "from numpy                  import int8 as int8\n",
        "\n",
        "###\n",
        "### Angle generation imports\n",
        "###\n",
        "\n",
        "from    pyLIQTR.phase_factors.optimization.fitter                import  Fitter\n",
        "from    pyLIQTR.phase_factors.optimization.expander              import  Expander\n",
        "from    pyLIQTR.phase_factors.optimization.angler_optimization   import  Angler_opt\n",
        "from    pyLIQTR.clam.simqsp                                      import  SimQSP\n",
        "import  pyLIQTR.clam.operators                                   as      qops\n",
        "import  pyLIQTR.utils.plot_helpers                               as      ph\n",
        "\n",
        "###\n",
        "### Arbitrary precision arithmetic\n",
        "###\n",
        "\n",
        "import mpmath                            as mpm\n",
        "mpm.mp.prec = 512\n",
        "\n",
        "###\n",
        "### Ploting and text output settings\n",
        "###\n",
        "\n",
        "mpli.backend_inline.set_matplotlib_formats('svg')\n",
        "plt.rcParams['text.usetex'] = False\n",
        "np.set_printoptions(precision=2)\n",
        "sys.set_int_max_str_digits(100000)"
      ]
    },
    {
      "cell_type": "code",
      "execution_count": null,
      "metadata": {
        "id": "KUrEHH9F4mcc"
      },
      "outputs": [],
      "source": [
        "deg   = 30;       parity   = 0\n",
        "kappa = 10;       beta     = 1.0\n",
        "\n",
        "exp_ite  =  lambda x : mpm.exp(-beta*np.abs(x))"
      ]
    }
  ],
  "metadata": {
    "colab": {
      "provenance": []
    },
    "kernelspec": {
      "display_name": "Python 3",
      "name": "python3"
    },
    "language_info": {
      "name": "python"
    }
  },
  "nbformat": 4,
  "nbformat_minor": 0
}
